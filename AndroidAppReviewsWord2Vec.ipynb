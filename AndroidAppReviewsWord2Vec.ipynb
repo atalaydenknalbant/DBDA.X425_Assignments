{
  "nbformat": 4,
  "nbformat_minor": 0,
  "metadata": {
    "colab": {
      "name": "GiftCardReviewsWord2Vec.ipynb",
      "provenance": [],
      "collapsed_sections": [],
      "authorship_tag": "ABX9TyP0/lREgl47hbQBEwtwQlfn",
      "include_colab_link": true
    },
    "kernelspec": {
      "name": "python3",
      "display_name": "Python 3"
    },
    "language_info": {
      "name": "python"
    },
    "accelerator": "TPU"
  },
  "cells": [
    {
      "cell_type": "markdown",
      "metadata": {
        "id": "view-in-github",
        "colab_type": "text"
      },
      "source": [
        "<a href=\"https://colab.research.google.com/github/atalaydenknalbant/DBDA.X425_Assignments/blob/main/GiftCardReviewsWord2Vec.ipynb\" target=\"_parent\"><img src=\"https://colab.research.google.com/assets/colab-badge.svg\" alt=\"Open In Colab\"/></a>"
      ]
    },
    {
      "cell_type": "markdown",
      "metadata": {
        "id": "0E8irIeiIBMl"
      },
      "source": [
        "## Install Gensim Library"
      ]
    },
    {
      "cell_type": "code",
      "metadata": {
        "colab": {
          "base_uri": "https://localhost:8080/"
        },
        "id": "lPN3Zx7hHV3M",
        "outputId": "3d2eeb4a-c359-4862-f954-322da039ee10"
      },
      "source": [
        "!pip install gensim"
      ],
      "execution_count": 1,
      "outputs": [
        {
          "output_type": "stream",
          "name": "stdout",
          "text": [
            "Requirement already satisfied: gensim in /usr/local/lib/python3.7/dist-packages (3.6.0)\n",
            "Requirement already satisfied: six>=1.5.0 in /usr/local/lib/python3.7/dist-packages (from gensim) (1.15.0)\n",
            "Requirement already satisfied: smart-open>=1.2.1 in /usr/local/lib/python3.7/dist-packages (from gensim) (5.2.1)\n",
            "Requirement already satisfied: scipy>=0.18.1 in /usr/local/lib/python3.7/dist-packages (from gensim) (1.4.1)\n",
            "Requirement already satisfied: numpy>=1.11.3 in /usr/local/lib/python3.7/dist-packages (from gensim) (1.19.5)\n"
          ]
        }
      ]
    },
    {
      "cell_type": "markdown",
      "metadata": {
        "id": "rj7TSBndIkaR"
      },
      "source": [
        "## Install python levenshtein library"
      ]
    },
    {
      "cell_type": "code",
      "metadata": {
        "colab": {
          "base_uri": "https://localhost:8080/"
        },
        "id": "w5OITLarIbzT",
        "outputId": "9e0d8e9c-9a28-4c00-e422-c4033350d091"
      },
      "source": [
        "!pip install python-levenshtein"
      ],
      "execution_count": 2,
      "outputs": [
        {
          "output_type": "stream",
          "name": "stdout",
          "text": [
            "Collecting python-levenshtein\n",
            "  Downloading python-Levenshtein-0.12.2.tar.gz (50 kB)\n",
            "\u001b[?25l\r\u001b[K     |██████▌                         | 10 kB 21.6 MB/s eta 0:00:01\r\u001b[K     |█████████████                   | 20 kB 6.5 MB/s eta 0:00:01\r\u001b[K     |███████████████████▌            | 30 kB 4.6 MB/s eta 0:00:01\r\u001b[K     |██████████████████████████      | 40 kB 4.4 MB/s eta 0:00:01\r\u001b[K     |████████████████████████████████| 50 kB 1.5 MB/s \n",
            "\u001b[?25hRequirement already satisfied: setuptools in /usr/local/lib/python3.7/dist-packages (from python-levenshtein) (57.4.0)\n",
            "Building wheels for collected packages: python-levenshtein\n",
            "  Building wheel for python-levenshtein (setup.py) ... \u001b[?25l\u001b[?25hdone\n",
            "  Created wheel for python-levenshtein: filename=python_Levenshtein-0.12.2-cp37-cp37m-linux_x86_64.whl size=149868 sha256=ec04b30716997a90cdce7afce59fd97c962e3bb389a69ae094bab8f7bad72629\n",
            "  Stored in directory: /root/.cache/pip/wheels/05/5f/ca/7c4367734892581bb5ff896f15027a932c551080b2abd3e00d\n",
            "Successfully built python-levenshtein\n",
            "Installing collected packages: python-levenshtein\n",
            "Successfully installed python-levenshtein-0.12.2\n"
          ]
        }
      ]
    },
    {
      "cell_type": "markdown",
      "metadata": {
        "id": "iDIiYMGTIEOp"
      },
      "source": [
        "## Import Libraries"
      ]
    },
    {
      "cell_type": "code",
      "metadata": {
        "id": "Gh6fbUqvIR-E"
      },
      "source": [
        "import gensim\n",
        "import tensorflow as tf\n",
        "import numpy as np\n",
        "from tensorflow.keras import layers\n",
        "from tensorflow import keras\n",
        "import pandas as pd"
      ],
      "execution_count": 3,
      "outputs": []
    },
    {
      "cell_type": "markdown",
      "metadata": {
        "id": "UerfKx55I-1J"
      },
      "source": [
        "## Read Reviews Dataset for Android Apps"
      ]
    },
    {
      "cell_type": "code",
      "metadata": {
        "id": "G3qyB-b5JDu1"
      },
      "source": [
        "df = pd.read_json('http://snap.stanford.edu/data/amazon/productGraph/categoryFiles/reviews_Apps_for_Android.json.gz', compression='gzip', lines=True)\n",
        "\n"
      ],
      "execution_count": 4,
      "outputs": []
    },
    {
      "cell_type": "code",
      "metadata": {
        "colab": {
          "base_uri": "https://localhost:8080/",
          "height": 363
        },
        "id": "cJ4mz5pcJ_gE",
        "outputId": "3f4e180f-bd52-4403-97e4-2cd60715f30f"
      },
      "source": [
        "df.head(10)"
      ],
      "execution_count": 5,
      "outputs": [
        {
          "output_type": "execute_result",
          "data": {
            "text/html": [
              "<div>\n",
              "<style scoped>\n",
              "    .dataframe tbody tr th:only-of-type {\n",
              "        vertical-align: middle;\n",
              "    }\n",
              "\n",
              "    .dataframe tbody tr th {\n",
              "        vertical-align: top;\n",
              "    }\n",
              "\n",
              "    .dataframe thead th {\n",
              "        text-align: right;\n",
              "    }\n",
              "</style>\n",
              "<table border=\"1\" class=\"dataframe\">\n",
              "  <thead>\n",
              "    <tr style=\"text-align: right;\">\n",
              "      <th></th>\n",
              "      <th>reviewerID</th>\n",
              "      <th>asin</th>\n",
              "      <th>reviewerName</th>\n",
              "      <th>helpful</th>\n",
              "      <th>reviewText</th>\n",
              "      <th>overall</th>\n",
              "      <th>summary</th>\n",
              "      <th>unixReviewTime</th>\n",
              "      <th>reviewTime</th>\n",
              "    </tr>\n",
              "  </thead>\n",
              "  <tbody>\n",
              "    <tr>\n",
              "      <th>0</th>\n",
              "      <td>AUI0OLXAB3KKT</td>\n",
              "      <td>B004A9SDD8</td>\n",
              "      <td>A Customer</td>\n",
              "      <td>[0, 0]</td>\n",
              "      <td>Glad to finally see this app on the android ma...</td>\n",
              "      <td>5</td>\n",
              "      <td>Great app!!!</td>\n",
              "      <td>1.301184e+09</td>\n",
              "      <td>03 27, 2011</td>\n",
              "    </tr>\n",
              "    <tr>\n",
              "      <th>1</th>\n",
              "      <td>A1ZUSQ3TC3EC4C</td>\n",
              "      <td>B004A9SDD8</td>\n",
              "      <td>A. Lissak</td>\n",
              "      <td>[12, 14]</td>\n",
              "      <td>this app works great on the Kindle Fire... kid...</td>\n",
              "      <td>5</td>\n",
              "      <td>Kid loves it</td>\n",
              "      <td>1.321574e+09</td>\n",
              "      <td>11 18, 2011</td>\n",
              "    </tr>\n",
              "    <tr>\n",
              "      <th>2</th>\n",
              "      <td>AC05OAXD72X1V</td>\n",
              "      <td>B004A9SDD8</td>\n",
              "      <td>Allie</td>\n",
              "      <td>[0, 0]</td>\n",
              "      <td>We love these monkey's and all the concepts th...</td>\n",
              "      <td>4</td>\n",
              "      <td>Love these monkeys!</td>\n",
              "      <td>1.367366e+09</td>\n",
              "      <td>05 1, 2013</td>\n",
              "    </tr>\n",
              "    <tr>\n",
              "      <th>3</th>\n",
              "      <td>A2RVMFOKBVM21I</td>\n",
              "      <td>B004A9SDD8</td>\n",
              "      <td>Amazon Customer</td>\n",
              "      <td>[0, 2]</td>\n",
              "      <td>cannot get my kindle away from my 2 year old g...</td>\n",
              "      <td>5</td>\n",
              "      <td>fun fun for toddlers</td>\n",
              "      <td>1.350173e+09</td>\n",
              "      <td>10 14, 2012</td>\n",
              "    </tr>\n",
              "    <tr>\n",
              "      <th>4</th>\n",
              "      <td>A3NBSRGUWQGCMZ</td>\n",
              "      <td>B004A9SDD8</td>\n",
              "      <td>Amazon Customer</td>\n",
              "      <td>[1, 3]</td>\n",
              "      <td>I start this app up whenever I forget what a f...</td>\n",
              "      <td>1</td>\n",
              "      <td>Might be great if it worked</td>\n",
              "      <td>1.300838e+09</td>\n",
              "      <td>03 23, 2011</td>\n",
              "    </tr>\n",
              "    <tr>\n",
              "      <th>5</th>\n",
              "      <td>A2KTVCVZJ8GPD2</td>\n",
              "      <td>B004A9SDD8</td>\n",
              "      <td>A. Mclean</td>\n",
              "      <td>[0, 0]</td>\n",
              "      <td>Very engaging to my three year old toddler. Sh...</td>\n",
              "      <td>5</td>\n",
              "      <td>Great video</td>\n",
              "      <td>1.393546e+09</td>\n",
              "      <td>02 28, 2014</td>\n",
              "    </tr>\n",
              "    <tr>\n",
              "      <th>6</th>\n",
              "      <td>A2I9RREBHMMPCJ</td>\n",
              "      <td>B004A9SDD8</td>\n",
              "      <td>AngelaM</td>\n",
              "      <td>[1, 2]</td>\n",
              "      <td>My daughter loves this app.  Unfortunately, af...</td>\n",
              "      <td>3</td>\n",
              "      <td>great when it worked</td>\n",
              "      <td>1.305504e+09</td>\n",
              "      <td>05 16, 2011</td>\n",
              "    </tr>\n",
              "    <tr>\n",
              "      <th>7</th>\n",
              "      <td>A1N4O8VOJZTDVB</td>\n",
              "      <td>B004A9SDD8</td>\n",
              "      <td>Annette Yancey</td>\n",
              "      <td>[1, 1]</td>\n",
              "      <td>Loves the song, so he really couldn't wait to ...</td>\n",
              "      <td>3</td>\n",
              "      <td>Really cute</td>\n",
              "      <td>1.383350e+09</td>\n",
              "      <td>11 2, 2013</td>\n",
              "    </tr>\n",
              "    <tr>\n",
              "      <th>8</th>\n",
              "      <td>A2HQWU6HUKIEC7</td>\n",
              "      <td>B004A9SDD8</td>\n",
              "      <td>Audiobook lover \"Kathy\"</td>\n",
              "      <td>[0, 0]</td>\n",
              "      <td>Oh, how my little grandson loves this app. He'...</td>\n",
              "      <td>5</td>\n",
              "      <td>2-year-old loves it</td>\n",
              "      <td>1.323043e+09</td>\n",
              "      <td>12 5, 2011</td>\n",
              "    </tr>\n",
              "    <tr>\n",
              "      <th>9</th>\n",
              "      <td>A1SXASF6GYG96I</td>\n",
              "      <td>B004A9SDD8</td>\n",
              "      <td>Barbara Gibbs</td>\n",
              "      <td>[0, 0]</td>\n",
              "      <td>I found this at a perfect time since my daught...</td>\n",
              "      <td>5</td>\n",
              "      <td>Fun game</td>\n",
              "      <td>1.337558e+09</td>\n",
              "      <td>05 21, 2012</td>\n",
              "    </tr>\n",
              "  </tbody>\n",
              "</table>\n",
              "</div>"
            ],
            "text/plain": [
              "       reviewerID        asin  ... unixReviewTime   reviewTime\n",
              "0   AUI0OLXAB3KKT  B004A9SDD8  ...   1.301184e+09  03 27, 2011\n",
              "1  A1ZUSQ3TC3EC4C  B004A9SDD8  ...   1.321574e+09  11 18, 2011\n",
              "2   AC05OAXD72X1V  B004A9SDD8  ...   1.367366e+09   05 1, 2013\n",
              "3  A2RVMFOKBVM21I  B004A9SDD8  ...   1.350173e+09  10 14, 2012\n",
              "4  A3NBSRGUWQGCMZ  B004A9SDD8  ...   1.300838e+09  03 23, 2011\n",
              "5  A2KTVCVZJ8GPD2  B004A9SDD8  ...   1.393546e+09  02 28, 2014\n",
              "6  A2I9RREBHMMPCJ  B004A9SDD8  ...   1.305504e+09  05 16, 2011\n",
              "7  A1N4O8VOJZTDVB  B004A9SDD8  ...   1.383350e+09   11 2, 2013\n",
              "8  A2HQWU6HUKIEC7  B004A9SDD8  ...   1.323043e+09   12 5, 2011\n",
              "9  A1SXASF6GYG96I  B004A9SDD8  ...   1.337558e+09  05 21, 2012\n",
              "\n",
              "[10 rows x 9 columns]"
            ]
          },
          "metadata": {},
          "execution_count": 5
        }
      ]
    },
    {
      "cell_type": "code",
      "metadata": {
        "colab": {
          "base_uri": "https://localhost:8080/"
        },
        "id": "N6Qu4XObKBJw",
        "outputId": "338f1d9a-c0a9-4714-a371-e5d612e44cb3"
      },
      "source": [
        "df.shape"
      ],
      "execution_count": 6,
      "outputs": [
        {
          "output_type": "execute_result",
          "data": {
            "text/plain": [
              "(2638173, 9)"
            ]
          },
          "metadata": {},
          "execution_count": 6
        }
      ]
    },
    {
      "cell_type": "code",
      "metadata": {
        "colab": {
          "base_uri": "https://localhost:8080/",
          "height": 35
        },
        "id": "eDQwDoXxKGCS",
        "outputId": "b915f564-34cc-4061-c7dd-86917b0515fe"
      },
      "source": [
        "df.reviewText[0]"
      ],
      "execution_count": 7,
      "outputs": [
        {
          "output_type": "execute_result",
          "data": {
            "application/vnd.google.colaboratory.intrinsic+json": {
              "type": "string"
            },
            "text/plain": [
              "'Glad to finally see this app on the android market.  my wife has it on her iphone and ipad and my son (15 months) loves it!  Hopefully more apps like this are on the way!'"
            ]
          },
          "metadata": {},
          "execution_count": 7
        }
      ]
    },
    {
      "cell_type": "code",
      "metadata": {
        "colab": {
          "base_uri": "https://localhost:8080/"
        },
        "id": "2Lt5c5J3LIBn",
        "outputId": "daa0e0b6-d9c4-4db0-e9ea-144258ebee89"
      },
      "source": [
        "gensim.utils.simple_preprocess(df.reviewText[0])"
      ],
      "execution_count": 8,
      "outputs": [
        {
          "output_type": "execute_result",
          "data": {
            "text/plain": [
              "['glad',\n",
              " 'to',\n",
              " 'finally',\n",
              " 'see',\n",
              " 'this',\n",
              " 'app',\n",
              " 'on',\n",
              " 'the',\n",
              " 'android',\n",
              " 'market',\n",
              " 'my',\n",
              " 'wife',\n",
              " 'has',\n",
              " 'it',\n",
              " 'on',\n",
              " 'her',\n",
              " 'iphone',\n",
              " 'and',\n",
              " 'ipad',\n",
              " 'and',\n",
              " 'my',\n",
              " 'son',\n",
              " 'months',\n",
              " 'loves',\n",
              " 'it',\n",
              " 'hopefully',\n",
              " 'more',\n",
              " 'apps',\n",
              " 'like',\n",
              " 'this',\n",
              " 'are',\n",
              " 'on',\n",
              " 'the',\n",
              " 'way']"
            ]
          },
          "metadata": {},
          "execution_count": 8
        }
      ]
    },
    {
      "cell_type": "markdown",
      "metadata": {
        "id": "CN81MLSZLpjJ"
      },
      "source": [
        "## Apply gensim library's preprocessing method to all the data set in reviewText"
      ]
    },
    {
      "cell_type": "code",
      "metadata": {
        "colab": {
          "base_uri": "https://localhost:8080/"
        },
        "id": "QdVYkR57LgYJ",
        "outputId": "6e927d22-fe3e-4736-9eca-11d101af0158"
      },
      "source": [
        "reviews_preprocessed = df.reviewText.apply(gensim.utils.simple_preprocess)\n",
        "reviews_preprocessed"
      ],
      "execution_count": 9,
      "outputs": [
        {
          "output_type": "execute_result",
          "data": {
            "text/plain": [
              "0          [glad, to, finally, see, this, app, on, the, a...\n",
              "1          [this, app, works, great, on, the, kindle, fir...\n",
              "2          [we, love, these, monkey, and, all, the, conce...\n",
              "3          [cannot, get, my, kindle, away, from, my, year...\n",
              "4          [start, this, app, up, whenever, forget, what,...\n",
              "                                 ...                        \n",
              "2638168    [love, the, fix, my, car, series, but, this, o...\n",
              "2638169    [really, enjoying, this, one, played, the, oth...\n",
              "2638170    [pretty, nice, graphics, funny, characters, go...\n",
              "2638171    [really, love, this, kind, of, game, it, gets,...\n",
              "2638172    [nice, app, does, the, job, pretty, well, just...\n",
              "Name: reviewText, Length: 2638173, dtype: object"
            ]
          },
          "metadata": {},
          "execution_count": 9
        }
      ]
    },
    {
      "cell_type": "markdown",
      "metadata": {
        "id": "ZapIGNKmMhwL"
      },
      "source": [
        "## Create a Model"
      ]
    },
    {
      "cell_type": "code",
      "metadata": {
        "colab": {
          "base_uri": "https://localhost:8080/"
        },
        "id": "h5olybbzL5l4",
        "outputId": "6f0832ad-d075-4a8d-ab6c-455bd357f4a4"
      },
      "source": [
        "# detect and init the TPU\n",
        "tpu = tf.distribute.cluster_resolver.TPUClusterResolver.connect()\n",
        "\n",
        "# instantiate a distribution strategy\n",
        "tpu_strategy = tf.distribute.experimental.TPUStrategy(tpu)\n",
        "\n",
        "# instantiating the model in the strategy scope creates the model on the TPU\n",
        "with tpu_strategy.scope():\n",
        "    model = gensim.models.Word2Vec(\n",
        "    window=10,\n",
        "    min_count=2,\n",
        "    workers=4                      \n",
        ")\n",
        "\n",
        "\n"
      ],
      "execution_count": 10,
      "outputs": [
        {
          "output_type": "stream",
          "name": "stdout",
          "text": [
            "INFO:tensorflow:Deallocate tpu buffers before initializing tpu system.\n"
          ]
        },
        {
          "output_type": "stream",
          "name": "stderr",
          "text": [
            "INFO:tensorflow:Deallocate tpu buffers before initializing tpu system.\n"
          ]
        },
        {
          "output_type": "stream",
          "name": "stdout",
          "text": [
            "INFO:tensorflow:Initializing the TPU system: grpc://10.123.69.146:8470\n"
          ]
        },
        {
          "output_type": "stream",
          "name": "stderr",
          "text": [
            "INFO:tensorflow:Initializing the TPU system: grpc://10.123.69.146:8470\n"
          ]
        },
        {
          "output_type": "stream",
          "name": "stdout",
          "text": [
            "INFO:tensorflow:Finished initializing TPU system.\n"
          ]
        },
        {
          "output_type": "stream",
          "name": "stderr",
          "text": [
            "INFO:tensorflow:Finished initializing TPU system.\n",
            "WARNING:absl:`tf.distribute.experimental.TPUStrategy` is deprecated, please use  the non experimental symbol `tf.distribute.TPUStrategy` instead.\n"
          ]
        },
        {
          "output_type": "stream",
          "name": "stdout",
          "text": [
            "INFO:tensorflow:Found TPU system:\n"
          ]
        },
        {
          "output_type": "stream",
          "name": "stderr",
          "text": [
            "INFO:tensorflow:Found TPU system:\n"
          ]
        },
        {
          "output_type": "stream",
          "name": "stdout",
          "text": [
            "INFO:tensorflow:*** Num TPU Cores: 8\n"
          ]
        },
        {
          "output_type": "stream",
          "name": "stderr",
          "text": [
            "INFO:tensorflow:*** Num TPU Cores: 8\n"
          ]
        },
        {
          "output_type": "stream",
          "name": "stdout",
          "text": [
            "INFO:tensorflow:*** Num TPU Workers: 1\n"
          ]
        },
        {
          "output_type": "stream",
          "name": "stderr",
          "text": [
            "INFO:tensorflow:*** Num TPU Workers: 1\n"
          ]
        },
        {
          "output_type": "stream",
          "name": "stdout",
          "text": [
            "INFO:tensorflow:*** Num TPU Cores Per Worker: 8\n"
          ]
        },
        {
          "output_type": "stream",
          "name": "stderr",
          "text": [
            "INFO:tensorflow:*** Num TPU Cores Per Worker: 8\n"
          ]
        },
        {
          "output_type": "stream",
          "name": "stdout",
          "text": [
            "INFO:tensorflow:*** Available Device: _DeviceAttributes(/job:localhost/replica:0/task:0/device:CPU:0, CPU, 0, 0)\n"
          ]
        },
        {
          "output_type": "stream",
          "name": "stderr",
          "text": [
            "INFO:tensorflow:*** Available Device: _DeviceAttributes(/job:localhost/replica:0/task:0/device:CPU:0, CPU, 0, 0)\n"
          ]
        },
        {
          "output_type": "stream",
          "name": "stdout",
          "text": [
            "INFO:tensorflow:*** Available Device: _DeviceAttributes(/job:worker/replica:0/task:0/device:CPU:0, CPU, 0, 0)\n"
          ]
        },
        {
          "output_type": "stream",
          "name": "stderr",
          "text": [
            "INFO:tensorflow:*** Available Device: _DeviceAttributes(/job:worker/replica:0/task:0/device:CPU:0, CPU, 0, 0)\n"
          ]
        },
        {
          "output_type": "stream",
          "name": "stdout",
          "text": [
            "INFO:tensorflow:*** Available Device: _DeviceAttributes(/job:worker/replica:0/task:0/device:TPU:0, TPU, 0, 0)\n"
          ]
        },
        {
          "output_type": "stream",
          "name": "stderr",
          "text": [
            "INFO:tensorflow:*** Available Device: _DeviceAttributes(/job:worker/replica:0/task:0/device:TPU:0, TPU, 0, 0)\n"
          ]
        },
        {
          "output_type": "stream",
          "name": "stdout",
          "text": [
            "INFO:tensorflow:*** Available Device: _DeviceAttributes(/job:worker/replica:0/task:0/device:TPU:1, TPU, 0, 0)\n"
          ]
        },
        {
          "output_type": "stream",
          "name": "stderr",
          "text": [
            "INFO:tensorflow:*** Available Device: _DeviceAttributes(/job:worker/replica:0/task:0/device:TPU:1, TPU, 0, 0)\n"
          ]
        },
        {
          "output_type": "stream",
          "name": "stdout",
          "text": [
            "INFO:tensorflow:*** Available Device: _DeviceAttributes(/job:worker/replica:0/task:0/device:TPU:2, TPU, 0, 0)\n"
          ]
        },
        {
          "output_type": "stream",
          "name": "stderr",
          "text": [
            "INFO:tensorflow:*** Available Device: _DeviceAttributes(/job:worker/replica:0/task:0/device:TPU:2, TPU, 0, 0)\n"
          ]
        },
        {
          "output_type": "stream",
          "name": "stdout",
          "text": [
            "INFO:tensorflow:*** Available Device: _DeviceAttributes(/job:worker/replica:0/task:0/device:TPU:3, TPU, 0, 0)\n"
          ]
        },
        {
          "output_type": "stream",
          "name": "stderr",
          "text": [
            "INFO:tensorflow:*** Available Device: _DeviceAttributes(/job:worker/replica:0/task:0/device:TPU:3, TPU, 0, 0)\n"
          ]
        },
        {
          "output_type": "stream",
          "name": "stdout",
          "text": [
            "INFO:tensorflow:*** Available Device: _DeviceAttributes(/job:worker/replica:0/task:0/device:TPU:4, TPU, 0, 0)\n"
          ]
        },
        {
          "output_type": "stream",
          "name": "stderr",
          "text": [
            "INFO:tensorflow:*** Available Device: _DeviceAttributes(/job:worker/replica:0/task:0/device:TPU:4, TPU, 0, 0)\n"
          ]
        },
        {
          "output_type": "stream",
          "name": "stdout",
          "text": [
            "INFO:tensorflow:*** Available Device: _DeviceAttributes(/job:worker/replica:0/task:0/device:TPU:5, TPU, 0, 0)\n"
          ]
        },
        {
          "output_type": "stream",
          "name": "stderr",
          "text": [
            "INFO:tensorflow:*** Available Device: _DeviceAttributes(/job:worker/replica:0/task:0/device:TPU:5, TPU, 0, 0)\n"
          ]
        },
        {
          "output_type": "stream",
          "name": "stdout",
          "text": [
            "INFO:tensorflow:*** Available Device: _DeviceAttributes(/job:worker/replica:0/task:0/device:TPU:6, TPU, 0, 0)\n"
          ]
        },
        {
          "output_type": "stream",
          "name": "stderr",
          "text": [
            "INFO:tensorflow:*** Available Device: _DeviceAttributes(/job:worker/replica:0/task:0/device:TPU:6, TPU, 0, 0)\n"
          ]
        },
        {
          "output_type": "stream",
          "name": "stdout",
          "text": [
            "INFO:tensorflow:*** Available Device: _DeviceAttributes(/job:worker/replica:0/task:0/device:TPU:7, TPU, 0, 0)\n"
          ]
        },
        {
          "output_type": "stream",
          "name": "stderr",
          "text": [
            "INFO:tensorflow:*** Available Device: _DeviceAttributes(/job:worker/replica:0/task:0/device:TPU:7, TPU, 0, 0)\n"
          ]
        },
        {
          "output_type": "stream",
          "name": "stdout",
          "text": [
            "INFO:tensorflow:*** Available Device: _DeviceAttributes(/job:worker/replica:0/task:0/device:TPU_SYSTEM:0, TPU_SYSTEM, 0, 0)\n"
          ]
        },
        {
          "output_type": "stream",
          "name": "stderr",
          "text": [
            "INFO:tensorflow:*** Available Device: _DeviceAttributes(/job:worker/replica:0/task:0/device:TPU_SYSTEM:0, TPU_SYSTEM, 0, 0)\n"
          ]
        },
        {
          "output_type": "stream",
          "name": "stdout",
          "text": [
            "INFO:tensorflow:*** Available Device: _DeviceAttributes(/job:worker/replica:0/task:0/device:XLA_CPU:0, XLA_CPU, 0, 0)\n"
          ]
        },
        {
          "output_type": "stream",
          "name": "stderr",
          "text": [
            "INFO:tensorflow:*** Available Device: _DeviceAttributes(/job:worker/replica:0/task:0/device:XLA_CPU:0, XLA_CPU, 0, 0)\n"
          ]
        }
      ]
    },
    {
      "cell_type": "markdown",
      "metadata": {
        "id": "j2XWbs_ROvO1"
      },
      "source": [
        "## Build a vocabulary for model"
      ]
    },
    {
      "cell_type": "code",
      "metadata": {
        "id": "hWXXGeRaOyCv"
      },
      "source": [
        "model.build_vocab(reviews_preprocessed)"
      ],
      "execution_count": 11,
      "outputs": []
    },
    {
      "cell_type": "markdown",
      "metadata": {
        "id": "BdLsQHpiPF9S"
      },
      "source": [
        "## Train Model"
      ]
    },
    {
      "cell_type": "code",
      "metadata": {
        "colab": {
          "base_uri": "https://localhost:8080/"
        },
        "id": "0JJvX39TPHnO",
        "outputId": "8741ad2f-377f-4858-b6cd-877e4674fd37"
      },
      "source": [
        "model.train(reviews_preprocessed, total_examples=model.corpus_count,epochs=model.epochs)"
      ],
      "execution_count": 12,
      "outputs": [
        {
          "output_type": "execute_result",
          "data": {
            "text/plain": [
              "(313155383, 445997430)"
            ]
          },
          "metadata": {},
          "execution_count": 12
        }
      ]
    },
    {
      "cell_type": "markdown",
      "metadata": {
        "id": "Q_NLMGrkN9ws"
      },
      "source": [
        "## Evaluation"
      ]
    },
    {
      "cell_type": "code",
      "metadata": {
        "colab": {
          "base_uri": "https://localhost:8080/"
        },
        "id": "3T1s707CPUiC",
        "outputId": "077a8fab-4e2a-4c3f-b84b-fbde106d51bb"
      },
      "source": [
        "model.wv.vocab"
      ],
      "execution_count": 13,
      "outputs": [
        {
          "output_type": "execute_result",
          "data": {
            "text/plain": [
              "{'glad': <gensim.models.keyedvectors.Vocab at 0x7f711f91de10>,\n",
              " 'to': <gensim.models.keyedvectors.Vocab at 0x7f72e6e68290>,\n",
              " 'finally': <gensim.models.keyedvectors.Vocab at 0x7f7115c58410>,\n",
              " 'see': <gensim.models.keyedvectors.Vocab at 0x7f7115c58250>,\n",
              " 'this': <gensim.models.keyedvectors.Vocab at 0x7f7115cc4ad0>,\n",
              " 'app': <gensim.models.keyedvectors.Vocab at 0x7f7115cc4e50>,\n",
              " 'on': <gensim.models.keyedvectors.Vocab at 0x7f7115cc4910>,\n",
              " 'the': <gensim.models.keyedvectors.Vocab at 0x7f7115cc4e10>,\n",
              " 'android': <gensim.models.keyedvectors.Vocab at 0x7f7115cc4790>,\n",
              " 'market': <gensim.models.keyedvectors.Vocab at 0x7f7115cc4d90>,\n",
              " 'my': <gensim.models.keyedvectors.Vocab at 0x7f7115cc4b50>,\n",
              " 'wife': <gensim.models.keyedvectors.Vocab at 0x7f7115cc4750>,\n",
              " 'has': <gensim.models.keyedvectors.Vocab at 0x7f7115cc4f50>,\n",
              " 'it': <gensim.models.keyedvectors.Vocab at 0x7f7115cc4cd0>,\n",
              " 'her': <gensim.models.keyedvectors.Vocab at 0x7f7115cc4bd0>,\n",
              " 'iphone': <gensim.models.keyedvectors.Vocab at 0x7f7115cc4610>,\n",
              " 'and': <gensim.models.keyedvectors.Vocab at 0x7f7115cc4e90>,\n",
              " 'ipad': <gensim.models.keyedvectors.Vocab at 0x7f7115cc4c10>,\n",
              " 'son': <gensim.models.keyedvectors.Vocab at 0x7f7115cc4850>,\n",
              " 'months': <gensim.models.keyedvectors.Vocab at 0x7f7115cc4ed0>,\n",
              " 'loves': <gensim.models.keyedvectors.Vocab at 0x7f70e441e3d0>,\n",
              " 'hopefully': <gensim.models.keyedvectors.Vocab at 0x7f70e441ecd0>,\n",
              " 'more': <gensim.models.keyedvectors.Vocab at 0x7f70e441e6d0>,\n",
              " 'apps': <gensim.models.keyedvectors.Vocab at 0x7f70e441edd0>,\n",
              " 'like': <gensim.models.keyedvectors.Vocab at 0x7f70e441e490>,\n",
              " 'are': <gensim.models.keyedvectors.Vocab at 0x7f70e441e190>,\n",
              " 'way': <gensim.models.keyedvectors.Vocab at 0x7f70e441eb90>,\n",
              " 'works': <gensim.models.keyedvectors.Vocab at 0x7f70e441ec50>,\n",
              " 'great': <gensim.models.keyedvectors.Vocab at 0x7f70e441e4d0>,\n",
              " 'kindle': <gensim.models.keyedvectors.Vocab at 0x7f70e441ec10>,\n",
              " 'fire': <gensim.models.keyedvectors.Vocab at 0x7f70e441e710>,\n",
              " 'kid': <gensim.models.keyedvectors.Vocab at 0x7f70e441ed50>,\n",
              " 'just': <gensim.models.keyedvectors.Vocab at 0x7f70e441e5d0>,\n",
              " 'plays': <gensim.models.keyedvectors.Vocab at 0x7f70e441ee50>,\n",
              " 'over': <gensim.models.keyedvectors.Vocab at 0x7f70e441e450>,\n",
              " 'again': <gensim.models.keyedvectors.Vocab at 0x7f70e441ef10>,\n",
              " 'would': <gensim.models.keyedvectors.Vocab at 0x7f70e441ead0>,\n",
              " 'definitely': <gensim.models.keyedvectors.Vocab at 0x7f70e441ebd0>,\n",
              " 'recommend': <gensim.models.keyedvectors.Vocab at 0x7f70e441e2d0>,\n",
              " 'we': <gensim.models.keyedvectors.Vocab at 0x7f70e441e150>,\n",
              " 'love': <gensim.models.keyedvectors.Vocab at 0x7f70e441e410>,\n",
              " 'these': <gensim.models.keyedvectors.Vocab at 0x7f70e441e350>,\n",
              " 'monkey': <gensim.models.keyedvectors.Vocab at 0x7f70e441e290>,\n",
              " 'all': <gensim.models.keyedvectors.Vocab at 0x7f70e441e750>,\n",
              " 'concepts': <gensim.models.keyedvectors.Vocab at 0x7f70e441e590>,\n",
              " 'that': <gensim.models.keyedvectors.Vocab at 0x7f70e441ec90>,\n",
              " 'you': <gensim.models.keyedvectors.Vocab at 0x7f70e441e550>,\n",
              " 'learn': <gensim.models.keyedvectors.Vocab at 0x7f70e441ed10>,\n",
              " 'while': <gensim.models.keyedvectors.Vocab at 0x7f70e441ed90>,\n",
              " 'working': <gensim.models.keyedvectors.Vocab at 0x7f70e441ef50>,\n",
              " 'with': <gensim.models.keyedvectors.Vocab at 0x7f70e441e250>,\n",
              " 'them': <gensim.models.keyedvectors.Vocab at 0x7f70e441e310>,\n",
              " 'jumping': <gensim.models.keyedvectors.Vocab at 0x7f70e441e1d0>,\n",
              " 'bed': <gensim.models.keyedvectors.Vocab at 0x7f70e441e810>,\n",
              " 'as': <gensim.models.keyedvectors.Vocab at 0x7f70e441eed0>,\n",
              " 'well': <gensim.models.keyedvectors.Vocab at 0x7f70e441ee10>,\n",
              " 'counting': <gensim.models.keyedvectors.Vocab at 0x7f70e441ee90>,\n",
              " 'fine': <gensim.models.keyedvectors.Vocab at 0x7f70e441ef90>,\n",
              " 'motor': <gensim.models.keyedvectors.Vocab at 0x7f70e441e390>,\n",
              " 'interactivity': <gensim.models.keyedvectors.Vocab at 0x7f70e441eb10>,\n",
              " 'finding': <gensim.models.keyedvectors.Vocab at 0x7f70e441e8d0>,\n",
              " 'of': <gensim.models.keyedvectors.Vocab at 0x7f70e441ea90>,\n",
              " 'hidden': <gensim.models.keyedvectors.Vocab at 0x7f70e441e090>,\n",
              " 'objects': <gensim.models.keyedvectors.Vocab at 0x7f70e441e0d0>,\n",
              " 'when': <gensim.models.keyedvectors.Vocab at 0x7f70e441e110>,\n",
              " 'play': <gensim.models.keyedvectors.Vocab at 0x7f70e441e990>,\n",
              " 'experiments': <gensim.models.keyedvectors.Vocab at 0x7f70e441e650>,\n",
              " 'touching': <gensim.models.keyedvectors.Vocab at 0x7f70e441ea50>,\n",
              " 'different': <gensim.models.keyedvectors.Vocab at 0x7f70e441e690>,\n",
              " 'what': <gensim.models.keyedvectors.Vocab at 0x7f70e441e850>,\n",
              " 'they': <gensim.models.keyedvectors.Vocab at 0x7f70e441e7d0>,\n",
              " 'do': <gensim.models.keyedvectors.Vocab at 0x7f70e441e510>,\n",
              " 'fun': <gensim.models.keyedvectors.Vocab at 0x7f70e441e9d0>,\n",
              " 'worth': <gensim.models.keyedvectors.Vocab at 0x7f70e441e890>,\n",
              " 'money': <gensim.models.keyedvectors.Vocab at 0x7f7115cd14d0>,\n",
              " 'cannot': <gensim.models.keyedvectors.Vocab at 0x7f7115cd1350>,\n",
              " 'get': <gensim.models.keyedvectors.Vocab at 0x7f7115cd1110>,\n",
              " 'away': <gensim.models.keyedvectors.Vocab at 0x7f7115cd1dd0>,\n",
              " 'from': <gensim.models.keyedvectors.Vocab at 0x7f7115cd16d0>,\n",
              " 'year': <gensim.models.keyedvectors.Vocab at 0x7f7115cd1910>,\n",
              " 'old': <gensim.models.keyedvectors.Vocab at 0x7f7115cd1390>,\n",
              " 'granddaughter': <gensim.models.keyedvectors.Vocab at 0x7f7115cd1310>,\n",
              " 'there': <gensim.models.keyedvectors.Vocab at 0x7f7115cd1090>,\n",
              " 'alot': <gensim.models.keyedvectors.Vocab at 0x7f7115cd1a90>,\n",
              " 'things': <gensim.models.keyedvectors.Vocab at 0x7f7115cd1b50>,\n",
              " 'keep': <gensim.models.keyedvectors.Vocab at 0x7f7115cd1190>,\n",
              " 'amused': <gensim.models.keyedvectors.Vocab at 0x7f7115cd1f10>,\n",
              " 'she': <gensim.models.keyedvectors.Vocab at 0x7f7115cd1d90>,\n",
              " 'start': <gensim.models.keyedvectors.Vocab at 0x7f7115cd1fd0>,\n",
              " 'up': <gensim.models.keyedvectors.Vocab at 0x7f7115cd1050>,\n",
              " 'whenever': <gensim.models.keyedvectors.Vocab at 0x7f70e4417110>,\n",
              " 'forget': <gensim.models.keyedvectors.Vocab at 0x7f70e4417510>,\n",
              " 'force': <gensim.models.keyedvectors.Vocab at 0x7f70e4417850>,\n",
              " 'close': <gensim.models.keyedvectors.Vocab at 0x7f70e4417610>,\n",
              " 'prompt': <gensim.models.keyedvectors.Vocab at 0x7f70e4417f50>,\n",
              " 'looks': <gensim.models.keyedvectors.Vocab at 0x7f70e4417450>,\n",
              " 'somewhat': <gensim.models.keyedvectors.Vocab at 0x7f70e4417910>,\n",
              " 'mistakenly': <gensim.models.keyedvectors.Vocab at 0x7f70e4417890>,\n",
              " 'purchased': <gensim.models.keyedvectors.Vocab at 0x7f70e4417f10>,\n",
              " 'due': <gensim.models.keyedvectors.Vocab at 0x7f70e4417dd0>,\n",
              " 'one': <gensim.models.keyedvectors.Vocab at 0x7f70e4417a90>,\n",
              " 'click': <gensim.models.keyedvectors.Vocab at 0x7f70e4417090>,\n",
              " 'setup': <gensim.models.keyedvectors.Vocab at 0x7f70e4417b10>,\n",
              " 'haven': <gensim.models.keyedvectors.Vocab at 0x7f70e4417e50>,\n",
              " 'been': <gensim.models.keyedvectors.Vocab at 0x7f70e4417690>,\n",
              " 'able': <gensim.models.keyedvectors.Vocab at 0x7f70e4417c90>,\n",
              " 'make': <gensim.models.keyedvectors.Vocab at 0x7f70e4417a10>,\n",
              " 'run': <gensim.models.keyedvectors.Vocab at 0x7f70e44171d0>,\n",
              " 'no': <gensim.models.keyedvectors.Vocab at 0x7f70e4417d90>,\n",
              " 'matter': <gensim.models.keyedvectors.Vocab at 0x7f70e4417550>,\n",
              " 'try': <gensim.models.keyedvectors.Vocab at 0x7f70e44174d0>,\n",
              " 'pretty': <gensim.models.keyedvectors.Vocab at 0x7f70e4417c10>,\n",
              " 'adept': <gensim.models.keyedvectors.Vocab at 0x7f70e4417bd0>,\n",
              " 'at': <gensim.models.keyedvectors.Vocab at 0x7f70e4417cd0>,\n",
              " 'using': <gensim.models.keyedvectors.Vocab at 0x7f70e4417f90>,\n",
              " 'htc': <gensim.models.keyedvectors.Vocab at 0x7f70e4417b50>,\n",
              " 'evo': <gensim.models.keyedvectors.Vocab at 0x7f70e4417fd0>,\n",
              " 'but': <gensim.models.keyedvectors.Vocab at 0x7f70e4417650>,\n",
              " 'guess': <gensim.models.keyedvectors.Vocab at 0x7f70e4417290>,\n",
              " 'not': <gensim.models.keyedvectors.Vocab at 0x7f70e4417b90>,\n",
              " 'so': <gensim.models.keyedvectors.Vocab at 0x7f70e4417e10>,\n",
              " 'hot': <gensim.models.keyedvectors.Vocab at 0x7f70e44175d0>,\n",
              " 'picking': <gensim.models.keyedvectors.Vocab at 0x7f70e44179d0>,\n",
              " 'good': <gensim.models.keyedvectors.Vocab at 0x7f70e4417810>,\n",
              " 'waste': <gensim.models.keyedvectors.Vocab at 0x7f70e4417e90>,\n",
              " 'very': <gensim.models.keyedvectors.Vocab at 0x7f70e4417c50>,\n",
              " 'engaging': <gensim.models.keyedvectors.Vocab at 0x7f70e4417050>,\n",
              " 'three': <gensim.models.keyedvectors.Vocab at 0x7f70e4417310>,\n",
              " 'toddler': <gensim.models.keyedvectors.Vocab at 0x7f70e4417d10>,\n",
              " 'every': <gensim.models.keyedvectors.Vocab at 0x7f70e4417210>,\n",
              " 'should': <gensim.models.keyedvectors.Vocab at 0x7f70e4417250>,\n",
              " 'daughter': <gensim.models.keyedvectors.Vocab at 0x7f70e4417a50>,\n",
              " 'unfortunately': <gensim.models.keyedvectors.Vocab at 0x7f70e4405110>,\n",
              " 'after': <gensim.models.keyedvectors.Vocab at 0x7f70e4405450>,\n",
              " 'upgrading': <gensim.models.keyedvectors.Vocab at 0x7f70e4405c50>,\n",
              " 'gingerbread': <gensim.models.keyedvectors.Vocab at 0x7f70e4405210>,\n",
              " 'closes': <gensim.models.keyedvectors.Vocab at 0x7f70e4405f50>,\n",
              " 'constantly': <gensim.models.keyedvectors.Vocab at 0x7f70e44058d0>,\n",
              " 'please': <gensim.models.keyedvectors.Vocab at 0x7f70e4405e90>,\n",
              " 'update': <gensim.models.keyedvectors.Vocab at 0x7f70e4405250>,\n",
              " 'can': <gensim.models.keyedvectors.Vocab at 0x7f70e4405dd0>,\n",
              " 'enjoy': <gensim.models.keyedvectors.Vocab at 0x7f70e4405d50>,\n",
              " 'song': <gensim.models.keyedvectors.Vocab at 0x7f70e4405f10>,\n",
              " 'he': <gensim.models.keyedvectors.Vocab at 0x7f70e4405650>,\n",
              " 'really': <gensim.models.keyedvectors.Vocab at 0x7f70e44057d0>,\n",
              " 'couldn': <gensim.models.keyedvectors.Vocab at 0x7f70e44055d0>,\n",
              " 'wait': <gensim.models.keyedvectors.Vocab at 0x7f70e44056d0>,\n",
              " 'little': <gensim.models.keyedvectors.Vocab at 0x7f70e4405ed0>,\n",
              " 'less': <gensim.models.keyedvectors.Vocab at 0x7f70e4405950>,\n",
              " 'interesting': <gensim.models.keyedvectors.Vocab at 0x7f70e4405090>,\n",
              " 'for': <gensim.models.keyedvectors.Vocab at 0x7f70e4405f90>,\n",
              " 'him': <gensim.models.keyedvectors.Vocab at 0x7f70e4405fd0>,\n",
              " 'doesn': <gensim.models.keyedvectors.Vocab at 0x7f70e4405290>,\n",
              " 'long': <gensim.models.keyedvectors.Vocab at 0x7f70e4405ad0>,\n",
              " 'is': <gensim.models.keyedvectors.Vocab at 0x7f70e4405750>,\n",
              " 'almost': <gensim.models.keyedvectors.Vocab at 0x7f70e4405610>,\n",
              " 'likes': <gensim.models.keyedvectors.Vocab at 0x7f70e4405b50>,\n",
              " 'older': <gensim.models.keyedvectors.Vocab at 0x7f70e44052d0>,\n",
              " 'games': <gensim.models.keyedvectors.Vocab at 0x7f70e44050d0>,\n",
              " 'cute': <gensim.models.keyedvectors.Vocab at 0x7f70e4405490>,\n",
              " 'younger': <gensim.models.keyedvectors.Vocab at 0x7f70e4405bd0>,\n",
              " 'child': <gensim.models.keyedvectors.Vocab at 0x7f70e4405150>,\n",
              " 'oh': <gensim.models.keyedvectors.Vocab at 0x7f70e4405790>,\n",
              " 'how': <gensim.models.keyedvectors.Vocab at 0x7f70e4405310>,\n",
              " 'grandson': <gensim.models.keyedvectors.Vocab at 0x7f70e4405e50>,\n",
              " 'always': <gensim.models.keyedvectors.Vocab at 0x7f70e4405690>,\n",
              " 'asking': <gensim.models.keyedvectors.Vocab at 0x7f70e4405810>,\n",
              " 'grandma': <gensim.models.keyedvectors.Vocab at 0x7f70e4405550>,\n",
              " 'tired': <gensim.models.keyedvectors.Vocab at 0x7f70e44054d0>,\n",
              " 'before': <gensim.models.keyedvectors.Vocab at 0x7f70e4405a50>,\n",
              " 'items': <gensim.models.keyedvectors.Vocab at 0x7f70e4405350>,\n",
              " 'each': <gensim.models.keyedvectors.Vocab at 0x7f70e4405cd0>,\n",
              " 'page': <gensim.models.keyedvectors.Vocab at 0x7f70e4405190>,\n",
              " 'touch': <gensim.models.keyedvectors.Vocab at 0x7f70e4405c10>,\n",
              " 'activate': <gensim.models.keyedvectors.Vocab at 0x7f70e4405590>,\n",
              " 'endlessly': <gensim.models.keyedvectors.Vocab at 0x7f70e4404110>,\n",
              " 'entertaining': <gensim.models.keyedvectors.Vocab at 0x7f70e4404190>,\n",
              " 'least': <gensim.models.keyedvectors.Vocab at 0x7f70e4404ed0>,\n",
              " 'now': <gensim.models.keyedvectors.Vocab at 0x7f70e44041d0>,\n",
              " 'found': <gensim.models.keyedvectors.Vocab at 0x7f70e4404bd0>,\n",
              " 'perfect': <gensim.models.keyedvectors.Vocab at 0x7f70e4404090>,\n",
              " 'time': <gensim.models.keyedvectors.Vocab at 0x7f70e4404b10>,\n",
              " 'since': <gensim.models.keyedvectors.Vocab at 0x7f70e44045d0>,\n",
              " 'favorite': <gensim.models.keyedvectors.Vocab at 0x7f70e4404750>,\n",
              " 'moment': <gensim.models.keyedvectors.Vocab at 0x7f70e4404a50>,\n",
              " 'five': <gensim.models.keyedvectors.Vocab at 0x7f70e4404e10>,\n",
              " 'monkeys': <gensim.models.keyedvectors.Vocab at 0x7f70e44047d0>,\n",
              " 'easy': <gensim.models.keyedvectors.Vocab at 0x7f70e4404910>,\n",
              " 'ones': <gensim.models.keyedvectors.Vocab at 0x7f70e4404610>,\n",
              " 'operate': <gensim.models.keyedvectors.Vocab at 0x7f70e4404c50>,\n",
              " 'generes': <gensim.models.keyedvectors.Vocab at 0x7f70e44044d0>,\n",
              " 'nice': <gensim.models.keyedvectors.Vocab at 0x7f70e44048d0>,\n",
              " 'too': <gensim.models.keyedvectors.Vocab at 0x7f70e4404990>,\n",
              " 'gives': <gensim.models.keyedvectors.Vocab at 0x7f70e4404c90>,\n",
              " 'its': <gensim.models.keyedvectors.Vocab at 0x7f70e4404290>,\n",
              " 'variety': <gensim.models.keyedvectors.Vocab at 0x7f70e44046d0>,\n",
              " 'highly': <gensim.models.keyedvectors.Vocab at 0x7f70e4404850>,\n",
              " 'recommended': <gensim.models.keyedvectors.Vocab at 0x7f70e4404590>,\n",
              " 'goes': <gensim.models.keyedvectors.Vocab at 0x7f70e4404a10>,\n",
              " 'back': <gensim.models.keyedvectors.Vocab at 0x7f70e4404c10>,\n",
              " 'game': <gensim.models.keyedvectors.Vocab at 0x7f70e4404490>,\n",
              " 'simple': <gensim.models.keyedvectors.Vocab at 0x7f70e4404810>,\n",
              " 'use': <gensim.models.keyedvectors.Vocab at 0x7f70e4404fd0>,\n",
              " 've': <gensim.models.keyedvectors.Vocab at 0x7f70e4404650>,\n",
              " 'even': <gensim.models.keyedvectors.Vocab at 0x7f70e4404d90>,\n",
              " 'caught': <gensim.models.keyedvectors.Vocab at 0x7f70e4404410>,\n",
              " 'playing': <gensim.models.keyedvectors.Vocab at 0x7f70e4404150>,\n",
              " 'guys': <gensim.models.keyedvectors.Vocab at 0x7f70e4404cd0>,\n",
              " 'phone': <gensim.models.keyedvectors.Vocab at 0x7f70e4404b90>,\n",
              " 'tablet': <gensim.models.keyedvectors.Vocab at 0x7f70e4404ad0>,\n",
              " 'go': <gensim.models.keyedvectors.Vocab at 0x7f70e4404d50>,\n",
              " 'full': <gensim.models.keyedvectors.Vocab at 0x7f70e4404dd0>,\n",
              " 'screen': <gensim.models.keyedvectors.Vocab at 0x7f70e4404550>,\n",
              " 'choose': <gensim.models.keyedvectors.Vocab at 0x7f70e4404a90>,\n",
              " 'which': <gensim.models.keyedvectors.Vocab at 0x7f70e4404710>,\n",
              " 'falls': <gensim.models.keyedvectors.Vocab at 0x7f70e4404210>,\n",
              " 'bounce': <gensim.models.keyedvectors.Vocab at 0x7f70e4404f90>,\n",
              " 'ball': <gensim.models.keyedvectors.Vocab at 0x7f70e4404790>,\n",
              " 'open': <gensim.models.keyedvectors.Vocab at 0x7f70e4404350>,\n",
              " 'window': <gensim.models.keyedvectors.Vocab at 0x7f70e4404450>,\n",
              " 'kids': <gensim.models.keyedvectors.Vocab at 0x7f70e4404390>,\n",
              " 'two': <gensim.models.keyedvectors.Vocab at 0x7f70e4407310>,\n",
              " 'keeps': <gensim.models.keyedvectors.Vocab at 0x7f70e4407250>,\n",
              " 'saying': <gensim.models.keyedvectors.Vocab at 0x7f70e4407190>,\n",
              " 'everytime': <gensim.models.keyedvectors.Vocab at 0x7f70e4407bd0>,\n",
              " 'done': <gensim.models.keyedvectors.Vocab at 0x7f70e4407410>,\n",
              " 'anyone': <gensim.models.keyedvectors.Vocab at 0x7f70e4407350>,\n",
              " 'many': <gensim.models.keyedvectors.Vocab at 0x7f70e4407610>,\n",
              " 'his': <gensim.models.keyedvectors.Vocab at 0x7f70e4407490>,\n",
              " 'own': <gensim.models.keyedvectors.Vocab at 0x7f70e4407f50>,\n",
              " 'lot': <gensim.models.keyedvectors.Vocab at 0x7f70e4407950>,\n",
              " 'small': <gensim.models.keyedvectors.Vocab at 0x7f70e4407e10>,\n",
              " 'interactions': <gensim.models.keyedvectors.Vocab at 0x7f70e4407a10>,\n",
              " 'cat': <gensim.models.keyedvectors.Vocab at 0x7f70e4407710>,\n",
              " 'clock': <gensim.models.keyedvectors.Vocab at 0x7f70e44075d0>,\n",
              " 'etc': <gensim.models.keyedvectors.Vocab at 0x7f70e4407b10>,\n",
              " 'teaches': <gensim.models.keyedvectors.Vocab at 0x7f70e4407ed0>,\n",
              " 'versions': <gensim.models.keyedvectors.Vocab at 0x7f70e4407290>,\n",
              " 'itself': <gensim.models.keyedvectors.Vocab at 0x7f70e4407fd0>,\n",
              " 'occupied': <gensim.models.keyedvectors.Vocab at 0x7f70e44070d0>,\n",
              " 'everything': <gensim.models.keyedvectors.Vocab at 0x7f70e4407b50>,\n",
              " 'clicks': <gensim.models.keyedvectors.Vocab at 0x7f70e4407650>,\n",
              " 'does': <gensim.models.keyedvectors.Vocab at 0x7f70e4407390>,\n",
              " 'something': <gensim.models.keyedvectors.Vocab at 0x7f70e4407150>,\n",
              " 'an': <gensim.models.keyedvectors.Vocab at 0x7f70e4407990>,\n",
              " 'airplane': <gensim.models.keyedvectors.Vocab at 0x7f70e4407590>,\n",
              " 'flies': <gensim.models.keyedvectors.Vocab at 0x7f70e4407c50>,\n",
              " 'around': <gensim.models.keyedvectors.Vocab at 0x7f70e4407690>,\n",
              " 'room': <gensim.models.keyedvectors.Vocab at 0x7f70e4407050>,\n",
              " 'telephone': <gensim.models.keyedvectors.Vocab at 0x7f70e44078d0>,\n",
              " 'rings': <gensim.models.keyedvectors.Vocab at 0x7f70e44079d0>,\n",
              " 'message': <gensim.models.keyedvectors.Vocab at 0x7f70e44071d0>,\n",
              " 'lamp': <gensim.models.keyedvectors.Vocab at 0x7f70e4407890>,\n",
              " 'turns': <gensim.models.keyedvectors.Vocab at 0x7f70e44073d0>,\n",
              " 'off': <gensim.models.keyedvectors.Vocab at 0x7f70e44072d0>,\n",
              " 'light': <gensim.models.keyedvectors.Vocab at 0x7f70e4407550>,\n",
              " 'eyes': <gensim.models.keyedvectors.Vocab at 0x7f70e4407b90>,\n",
              " 'going': <gensim.models.keyedvectors.Vocab at 0x7f70e4407ad0>,\n",
              " 'down': <gensim.models.keyedvectors.Vocab at 0x7f70e4407790>,\n",
              " 'in': <gensim.models.keyedvectors.Vocab at 0x7f70e4407a50>,\n",
              " 'dark': <gensim.models.keyedvectors.Vocab at 0x7f70e4407210>,\n",
              " 'dog': <gensim.models.keyedvectors.Vocab at 0x7f70e4407a90>,\n",
              " 'barks': <gensim.models.keyedvectors.Vocab at 0x7f70e4407d50>,\n",
              " 'then': <gensim.models.keyedvectors.Vocab at 0x7f70e4407850>,\n",
              " 'chases': <gensim.models.keyedvectors.Vocab at 0x7f70e4407cd0>,\n",
              " 'out': <gensim.models.keyedvectors.Vocab at 0x7f70e44076d0>,\n",
              " 'under': <gensim.models.keyedvectors.Vocab at 0x7f70e4407450>,\n",
              " 'third': <gensim.models.keyedvectors.Vocab at 0x7f70e44077d0>,\n",
              " 'picture': <gensim.models.keyedvectors.Vocab at 0x7f73202d2e50>,\n",
              " 'wall': <gensim.models.keyedvectors.Vocab at 0x7f73202d2c10>,\n",
              " 'becomes': <gensim.models.keyedvectors.Vocab at 0x7f73202d2d50>,\n",
              " 'interactive': <gensim.models.keyedvectors.Vocab at 0x7f73202d2d10>,\n",
              " 'portrait': <gensim.models.keyedvectors.Vocab at 0x7f73202d2e10>,\n",
              " 'traffic': <gensim.models.keyedvectors.Vocab at 0x7f73202d2e90>,\n",
              " 'stops': <gensim.models.keyedvectors.Vocab at 0x7f73202d2f90>,\n",
              " 'starts': <gensim.models.keyedvectors.Vocab at 0x7f73202d2750>,\n",
              " 'alarm': <gensim.models.keyedvectors.Vocab at 0x7f70e43fc510>,\n",
              " 'plant': <gensim.models.keyedvectors.Vocab at 0x7f70e43fc810>,\n",
              " 'grows': <gensim.models.keyedvectors.Vocab at 0x7f70e43fc790>,\n",
              " 'produces': <gensim.models.keyedvectors.Vocab at 0x7f70e43fc1d0>,\n",
              " 'bananas': <gensim.models.keyedvectors.Vocab at 0x7f70e43fcf50>,\n",
              " 'bounces': <gensim.models.keyedvectors.Vocab at 0x7f70e43fc150>,\n",
              " 'toy': <gensim.models.keyedvectors.Vocab at 0x7f70e43fcf10>,\n",
              " 'truck': <gensim.models.keyedvectors.Vocab at 0x7f70e43fc5d0>,\n",
              " 'rumbles': <gensim.models.keyedvectors.Vocab at 0x7f70e43fc190>,\n",
              " 'honks': <gensim.models.keyedvectors.Vocab at 0x7f70e43fc410>,\n",
              " 'lots': <gensim.models.keyedvectors.Vocab at 0x7f70e43fcb50>,\n",
              " 'jump': <gensim.models.keyedvectors.Vocab at 0x7f70e43fcf90>,\n",
              " 'fall': <gensim.models.keyedvectors.Vocab at 0x7f70e43fc910>,\n",
              " 'mama': <gensim.models.keyedvectors.Vocab at 0x7f70e43fc250>,\n",
              " 'calls': <gensim.models.keyedvectors.Vocab at 0x7f70e43fca90>,\n",
              " 'doctor': <gensim.models.keyedvectors.Vocab at 0x7f70e43fcb90>,\n",
              " 'downloaded': <gensim.models.keyedvectors.Vocab at 0x7f70e43fc110>,\n",
              " 'into': <gensim.models.keyedvectors.Vocab at 0x7f70e43fcfd0>,\n",
              " 'playand': <gensim.models.keyedvectors.Vocab at 0x7f70e43fc0d0>,\n",
              " 'educational': <gensim.models.keyedvectors.Vocab at 0x7f70e43fc9d0>,\n",
              " 'speech': <gensim.models.keyedvectors.Vocab at 0x7f70e43fc750>,\n",
              " 'language': <gensim.models.keyedvectors.Vocab at 0x7f70e43fc450>,\n",
              " 'pathology': <gensim.models.keyedvectors.Vocab at 0x7f70e43fcd50>,\n",
              " 'assistant': <gensim.models.keyedvectors.Vocab at 0x7f70e43fc590>,\n",
              " 'have': <gensim.models.keyedvectors.Vocab at 0x7f70e43fc050>,\n",
              " 'music': <gensim.models.keyedvectors.Vocab at 0x7f70e43fc2d0>,\n",
              " 'stories': <gensim.models.keyedvectors.Vocab at 0x7f70e43fca50>,\n",
              " 'toys': <gensim.models.keyedvectors.Vocab at 0x7f70e43fc4d0>,\n",
              " 'patients': <gensim.models.keyedvectors.Vocab at 0x7f70e43fc090>,\n",
              " 'however': <gensim.models.keyedvectors.Vocab at 0x7f70e43fc8d0>,\n",
              " 'brings': <gensim.models.keyedvectors.Vocab at 0x7f70e43fc950>,\n",
              " 'squeals': <gensim.models.keyedvectors.Vocab at 0x7f70e43fc890>,\n",
              " 'joy': <gensim.models.keyedvectors.Vocab at 0x7f70e43fce50>,\n",
              " 'delight': <gensim.models.keyedvectors.Vocab at 0x7f70e43fc490>,\n",
              " 'order': <gensim.models.keyedvectors.Vocab at 0x7f70e43fc290>,\n",
              " 'work': <gensim.models.keyedvectors.Vocab at 0x7f70e43fc210>,\n",
              " 'im': <gensim.models.keyedvectors.Vocab at 0x7f70e43fc850>,\n",
              " 'sentence': <gensim.models.keyedvectors.Vocab at 0x7f70e43fc610>,\n",
              " 'plurals': <gensim.models.keyedvectors.Vocab at 0x7f70e43fc7d0>,\n",
              " 'question': <gensim.models.keyedvectors.Vocab at 0x7f70e43fca10>,\n",
              " 'first': <gensim.models.keyedvectors.Vocab at 0x7f70e43fc350>,\n",
              " 'may': <gensim.models.keyedvectors.Vocab at 0x7f70e43fcc10>,\n",
              " 'spanish': <gensim.models.keyedvectors.Vocab at 0x7f70e43fce10>,\n",
              " 'speaking': <gensim.models.keyedvectors.Vocab at 0x7f70e4427e10>,\n",
              " 'ask': <gensim.models.keyedvectors.Vocab at 0x7f70e44276d0>,\n",
              " 'thought': <gensim.models.keyedvectors.Vocab at 0x7f70e4427b50>,\n",
              " 'be': <gensim.models.keyedvectors.Vocab at 0x7f70e4427f90>,\n",
              " 'book': <gensim.models.keyedvectors.Vocab at 0x7f70e4427f50>,\n",
              " 'read': <gensim.models.keyedvectors.Vocab at 0x7f70e4427dd0>,\n",
              " 'instead': <gensim.models.keyedvectors.Vocab at 0x7f70e4427b90>,\n",
              " 'was': <gensim.models.keyedvectors.Vocab at 0x7f70e4427350>,\n",
              " 'stupid': <gensim.models.keyedvectors.Vocab at 0x7f70e4427e90>,\n",
              " 'animation': <gensim.models.keyedvectors.Vocab at 0x7f70e4427850>,\n",
              " 'absolutely': <gensim.models.keyedvectors.Vocab at 0x7f70e4427d10>,\n",
              " 'could': <gensim.models.keyedvectors.Vocab at 0x7f70e4427610>,\n",
              " 'hours': <gensim.models.keyedvectors.Vocab at 0x7f70e4427e50>,\n",
              " 'end': <gensim.models.keyedvectors.Vocab at 0x7f70e4427c10>,\n",
              " 'super': <gensim.models.keyedvectors.Vocab at 0x7f70e4427a50>,\n",
              " 'musical': <gensim.models.keyedvectors.Vocab at 0x7f70e4427c50>,\n",
              " 'styles': <gensim.models.keyedvectors.Vocab at 0x7f70e4427bd0>,\n",
              " 'am': <gensim.models.keyedvectors.Vocab at 0x7f70e4427910>,\n",
              " 'disappointed': <gensim.models.keyedvectors.Vocab at 0x7f70e4427250>,\n",
              " 'actually': <gensim.models.keyedvectors.Vocab at 0x7f70e4427a90>,\n",
              " 'paid': <gensim.models.keyedvectors.Vocab at 0x7f70e4427a10>,\n",
              " 'used': <gensim.models.keyedvectors.Vocab at 0x7f70e44275d0>,\n",
              " 'sing': <gensim.models.keyedvectors.Vocab at 0x7f70e4427210>,\n",
              " 'children': <gensim.models.keyedvectors.Vocab at 0x7f70e4427290>,\n",
              " 'grandchildren': <gensim.models.keyedvectors.Vocab at 0x7f70e4427710>,\n",
              " 'won': <gensim.models.keyedvectors.Vocab at 0x7f70e4427310>,\n",
              " 'past': <gensim.models.keyedvectors.Vocab at 0x7f70e4427450>,\n",
              " 'title': <gensim.models.keyedvectors.Vocab at 0x7f70e4427490>,\n",
              " 'application': <gensim.models.keyedvectors.Vocab at 0x7f70e4427510>,\n",
              " 'error': <gensim.models.keyedvectors.Vocab at 0x7f70e4427650>,\n",
              " 'mo': <gensim.models.keyedvectors.Vocab at 0x7f70e4427590>,\n",
              " 'thinks': <gensim.models.keyedvectors.Vocab at 0x7f70e44274d0>,\n",
              " 'funny': <gensim.models.keyedvectors.Vocab at 0x7f70e4427110>,\n",
              " 'gets': <gensim.models.keyedvectors.Vocab at 0x7f70e44271d0>,\n",
              " 'kick': <gensim.models.keyedvectors.Vocab at 0x7f70e4427050>,\n",
              " 'aside': <gensim.models.keyedvectors.Vocab at 0x7f70e4427150>,\n",
              " 'singing': <gensim.models.keyedvectors.Vocab at 0x7f70e4427550>,\n",
              " 'characters': <gensim.models.keyedvectors.Vocab at 0x7f70e4427190>,\n",
              " 'move': <gensim.models.keyedvectors.Vocab at 0x7f70e4427d90>,\n",
              " 'eg': <gensim.models.keyedvectors.Vocab at 0x7f70e4427950>,\n",
              " 'across': <gensim.models.keyedvectors.Vocab at 0x7f70e44279d0>,\n",
              " 'enough': <gensim.models.keyedvectors.Vocab at 0x7f70e4427410>,\n",
              " 'will': <gensim.models.keyedvectors.Vocab at 0x7f70e4427090>,\n",
              " 'reccommend': <gensim.models.keyedvectors.Vocab at 0x7f70e4427890>,\n",
              " 'given': <gensim.models.keyedvectors.Vocab at 0x7f70e4427750>,\n",
              " 'our': <gensim.models.keyedvectors.Vocab at 0x7f70e44273d0>,\n",
              " 'who': <gensim.models.keyedvectors.Vocab at 0x7f70e4427b10>,\n",
              " 'yrs': <gensim.models.keyedvectors.Vocab at 0x7f70e4427390>,\n",
              " 'house': <gensim.models.keyedvectors.Vocab at 0x7f70e4427990>,\n",
              " 'had': <gensim.models.keyedvectors.Vocab at 0x7f70e44278d0>,\n",
              " 'hard': <gensim.models.keyedvectors.Vocab at 0x7f70e4427ad0>,\n",
              " 'age': <gensim.models.keyedvectors.Vocab at 0x7f70e4427cd0>,\n",
              " 'appropriate': <gensim.models.keyedvectors.Vocab at 0x7f70e4427fd0>,\n",
              " 'right': <gensim.models.keyedvectors.Vocab at 0x7f70e4427810>,\n",
              " 'took': <gensim.models.keyedvectors.Vocab at 0x7f70e4427790>,\n",
              " 'some': <gensim.models.keyedvectors.Vocab at 0x7f70e4427f10>,\n",
              " 'find': <gensim.models.keyedvectors.Vocab at 0x7f70e4427d50>,\n",
              " 'did': <gensim.models.keyedvectors.Vocab at 0x7f70e44277d0>,\n",
              " 'needed': <gensim.models.keyedvectors.Vocab at 0x7f70e4427690>,\n",
              " 'short': <gensim.models.keyedvectors.Vocab at 0x7f70e44272d0>,\n",
              " 'nursery': <gensim.models.keyedvectors.Vocab at 0x7f72e6e6d1d0>,\n",
              " 'rhyme': <gensim.models.keyedvectors.Vocab at 0x7f70e43b9990>,\n",
              " 'your': <gensim.models.keyedvectors.Vocab at 0x7f70e43b97d0>,\n",
              " 'pick': <gensim.models.keyedvectors.Vocab at 0x7f70e43b91d0>,\n",
              " 'forms': <gensim.models.keyedvectors.Vocab at 0x7f7115c58c90>,\n",
              " 'same': <gensim.models.keyedvectors.Vocab at 0x7f7115c58e50>,\n",
              " 'video': <gensim.models.keyedvectors.Vocab at 0x7f7115c581d0>,\n",
              " 'basic': <gensim.models.keyedvectors.Vocab at 0x7f7115c58450>,\n",
              " 'finger': <gensim.models.keyedvectors.Vocab at 0x7f7115c58f10>,\n",
              " 'says': <gensim.models.keyedvectors.Vocab at 0x7f7115c58a10>,\n",
              " 'number': <gensim.models.keyedvectors.Vocab at 0x7f7115c58490>,\n",
              " 'fallen': <gensim.models.keyedvectors.Vocab at 0x7f7115c58150>,\n",
              " 'if': <gensim.models.keyedvectors.Vocab at 0x7f7115c58b90>,\n",
              " 'remember': <gensim.models.keyedvectors.Vocab at 0x7f7115c58a50>,\n",
              " 'watch': <gensim.models.keyedvectors.Vocab at 0x7f7115c58050>,\n",
              " 'days': <gensim.models.keyedvectors.Vocab at 0x7f70e43b9cd0>,\n",
              " 'week': <gensim.models.keyedvectors.Vocab at 0x7f70e43b92d0>,\n",
              " 'month': <gensim.models.keyedvectors.Vocab at 0x7f70e43b9b10>,\n",
              " 'turn': <gensim.models.keyedvectors.Vocab at 0x7f70e43b9390>,\n",
              " 'crazy': <gensim.models.keyedvectors.Vocab at 0x7f70e43b95d0>,\n",
              " 'trying': <gensim.models.keyedvectors.Vocab at 0x7f70e43b9110>,\n",
              " 'other': <gensim.models.keyedvectors.Vocab at 0x7f70e43b9e50>,\n",
              " 'quickly': <gensim.models.keyedvectors.Vocab at 0x7f70e43b9750>,\n",
              " 'figured': <gensim.models.keyedvectors.Vocab at 0x7f70e43b9610>,\n",
              " 'navigate': <gensim.models.keyedvectors.Vocab at 0x7f70e43b9310>,\n",
              " 'minor': <gensim.models.keyedvectors.Vocab at 0x7f70e43b9650>,\n",
              " 'fault': <gensim.models.keyedvectors.Vocab at 0x7f70e43b9510>,\n",
              " 'hit': <gensim.models.keyedvectors.Vocab at 0x7f70e43b9bd0>,\n",
              " 'stop': <gensim.models.keyedvectors.Vocab at 0x7f70e43b9290>,\n",
              " 'button': <gensim.models.keyedvectors.Vocab at 0x7f70e43b9590>,\n",
              " 'wild': <gensim.models.keyedvectors.Vocab at 0x7f70e43b9dd0>,\n",
              " 'about': <gensim.models.keyedvectors.Vocab at 0x7f70e43b9c90>,\n",
              " 'available': <gensim.models.keyedvectors.Vocab at 0x7f70e43b9e90>,\n",
              " 'country': <gensim.models.keyedvectors.Vocab at 0x7f70e43b9710>,\n",
              " 'rock': <gensim.models.keyedvectors.Vocab at 0x7f70e43b9810>,\n",
              " 'or': <gensim.models.keyedvectors.Vocab at 0x7f70e43b9210>,\n",
              " 'pop': <gensim.models.keyedvectors.Vocab at 0x7f70e43b9a50>,\n",
              " 'action': <gensim.models.keyedvectors.Vocab at 0x7f70e43b9850>,\n",
              " 'player': <gensim.models.keyedvectors.Vocab at 0x7f70e43b94d0>,\n",
              " 'controlling': <gensim.models.keyedvectors.Vocab at 0x7f70e43b9150>,\n",
              " 'most': <gensim.models.keyedvectors.Vocab at 0x7f70e43b9190>,\n",
              " 'lesson': <gensim.models.keyedvectors.Vocab at 0x7f70e43b9050>,\n",
              " 'included': <gensim.models.keyedvectors.Vocab at 0x7f70e43b9410>,\n",
              " 'worked': <gensim.models.keyedvectors.Vocab at 0x7f70e43b96d0>,\n",
              " 'words': <gensim.models.keyedvectors.Vocab at 0x7f70e44213d0>,\n",
              " 'clear': <gensim.models.keyedvectors.Vocab at 0x7f70e4421750>,\n",
              " 'actions': <gensim.models.keyedvectors.Vocab at 0x7f70e4421cd0>,\n",
              " 'fast': <gensim.models.keyedvectors.Vocab at 0x7f70e4421d90>,\n",
              " 'easily': <gensim.models.keyedvectors.Vocab at 0x7f70e4421990>,\n",
              " 'promotes': <gensim.models.keyedvectors.Vocab at 0x7f70e44219d0>,\n",
              " 'hitting': <gensim.models.keyedvectors.Vocab at 0x7f70e4421f10>,\n",
              " 'touched': <gensim.models.keyedvectors.Vocab at 0x7f70e4421dd0>,\n",
              " 'went': <gensim.models.keyedvectors.Vocab at 0x7f70e4421e10>,\n",
              " 'obvious': <gensim.models.keyedvectors.Vocab at 0x7f70e44210d0>,\n",
              " 'sings': <gensim.models.keyedvectors.Vocab at 0x7f70e4421150>,\n",
              " 'randomly': <gensim.models.keyedvectors.Vocab at 0x7f70e44211d0>,\n",
              " 'learning': <gensim.models.keyedvectors.Vocab at 0x7f70e4421850>,\n",
              " 'tool': <gensim.models.keyedvectors.Vocab at 0x7f70e4421810>,\n",
              " 'catchy': <gensim.models.keyedvectors.Vocab at 0x7f70e4421a90>,\n",
              " 'theres': <gensim.models.keyedvectors.Vocab at 0x7f70e4421090>,\n",
              " 'much': <gensim.models.keyedvectors.Vocab at 0x7f70e4421650>,\n",
              " 'chooses': <gensim.models.keyedvectors.Vocab at 0x7f70e44217d0>,\n",
              " 'next': <gensim.models.keyedvectors.Vocab at 0x7f70e4421790>,\n",
              " 'understand': <gensim.models.keyedvectors.Vocab at 0x7f70e4421050>,\n",
              " 'muffled': <gensim.models.keyedvectors.Vocab at 0x7f70e4421910>,\n",
              " 'sure': <gensim.models.keyedvectors.Vocab at 0x7f70e4421b50>,\n",
              " 'actual': <gensim.models.keyedvectors.Vocab at 0x7f70e4421250>,\n",
              " 'leaning': <gensim.models.keyedvectors.Vocab at 0x7f70e4421590>,\n",
              " 're': <gensim.models.keyedvectors.Vocab at 0x7f70e4421510>,\n",
              " 'doing': <gensim.models.keyedvectors.Vocab at 0x7f70e4421290>,\n",
              " 'wouldnt': <gensim.models.keyedvectors.Vocab at 0x7f70e4421a50>,\n",
              " 'pay': <gensim.models.keyedvectors.Vocab at 0x7f70e4421310>,\n",
              " 'size': <gensim.models.keyedvectors.Vocab at 0x7f70e44212d0>,\n",
              " 'poor': <gensim.models.keyedvectors.Vocab at 0x7f70e4421a10>,\n",
              " 'any': <gensim.models.keyedvectors.Vocab at 0x7f70e4421390>,\n",
              " 'pocket': <gensim.models.keyedvectors.Vocab at 0x7f70e4421690>,\n",
              " 'bought': <gensim.models.keyedvectors.Vocab at 0x7f70e4421190>,\n",
              " 'credit': <gensim.models.keyedvectors.Vocab at 0x7f70e4421110>,\n",
              " 'seven': <gensim.models.keyedvectors.Vocab at 0x7f70e4421210>,\n",
              " 'sit': <gensim.models.keyedvectors.Vocab at 0x7f70e4421f90>,\n",
              " 'their': <gensim.models.keyedvectors.Vocab at 0x7f70e4421bd0>,\n",
              " 'wants': <gensim.models.keyedvectors.Vocab at 0x7f70e4421c50>,\n",
              " 'night': <gensim.models.keyedvectors.Vocab at 0x7f70e4421fd0>,\n",
              " 'happy': <gensim.models.keyedvectors.Vocab at 0x7f70e4421d10>,\n",
              " 'wish': <gensim.models.keyedvectors.Vocab at 0x7f70e4421c90>,\n",
              " 'hug': <gensim.models.keyedvectors.Vocab at 0x7f70e4421e90>,\n",
              " 'ever': <gensim.models.keyedvectors.Vocab at 0x7f7115cca390>,\n",
              " 'developed': <gensim.models.keyedvectors.Vocab at 0x7f7115ccaa50>,\n",
              " 'surprises': <gensim.models.keyedvectors.Vocab at 0x7f7115ccab50>,\n",
              " 'only': <gensim.models.keyedvectors.Vocab at 0x7f7115cca4d0>,\n",
              " 'side': <gensim.models.keyedvectors.Vocab at 0x7f7115ccabd0>,\n",
              " 'want': <gensim.models.keyedvectors.Vocab at 0x7f7115cca250>,\n",
              " 'me': <gensim.models.keyedvectors.Vocab at 0x7f7115cca490>,\n",
              " 'anymore': <gensim.models.keyedvectors.Vocab at 0x7f7115cca090>,\n",
              " 'through': <gensim.models.keyedvectors.Vocab at 0x7f7115ccacd0>,\n",
              " 'came': <gensim.models.keyedvectors.Vocab at 0x7f7115ccae50>,\n",
              " 'excited': <gensim.models.keyedvectors.Vocab at 0x7f7115ccad50>,\n",
              " 'along': <gensim.models.keyedvectors.Vocab at 0x7f7115ccaed0>,\n",
              " 'problem': <gensim.models.keyedvectors.Vocab at 0x7f7115ccaf90>,\n",
              " 'quite': <gensim.models.keyedvectors.Vocab at 0x7f7115ccad10>,\n",
              " 'awesome': <gensim.models.keyedvectors.Vocab at 0x7f7115cca5d0>,\n",
              " 'dr': <gensim.models.keyedvectors.Vocab at 0x7f7115cca310>,\n",
              " 'said': <gensim.models.keyedvectors.Vocab at 0x7f7115cca110>,\n",
              " 'voice': <gensim.models.keyedvectors.Vocab at 0x7f7115cca210>,\n",
              " 'moved': <gensim.models.keyedvectors.Vocab at 0x7f7115cca690>,\n",
              " 'signs': <gensim.models.keyedvectors.Vocab at 0x7f7115cca190>,\n",
              " 'cell': <gensim.models.keyedvectors.Vocab at 0x7f7115cca950>,\n",
              " 'awhile': <gensim.models.keyedvectors.Vocab at 0x7f7115ccaa90>,\n",
              " 'tierd': <gensim.models.keyedvectors.Vocab at 0x7f7115cca8d0>,\n",
              " 'listen': <gensim.models.keyedvectors.Vocab at 0x7f7115cca850>,\n",
              " 'wow': <gensim.models.keyedvectors.Vocab at 0x7f7115cca9d0>,\n",
              " 'never': <gensim.models.keyedvectors.Vocab at 0x7f7115ccad90>,\n",
              " 'grandaughter': <gensim.models.keyedvectors.Vocab at 0x7f7115cca550>,\n",
              " 'shopping': <gensim.models.keyedvectors.Vocab at 0x7f7115cca710>,\n",
              " 'choice': <gensim.models.keyedvectors.Vocab at 0x7f7115cca450>,\n",
              " 'got': <gensim.models.keyedvectors.Vocab at 0x7f7115ccac90>,\n",
              " 'because': <gensim.models.keyedvectors.Vocab at 0x7f7115cca350>,\n",
              " 'audio': <gensim.models.keyedvectors.Vocab at 0x7f7115cca810>,\n",
              " 'clearer': <gensim.models.keyedvectors.Vocab at 0x7f7115cca650>,\n",
              " 'also': <gensim.models.keyedvectors.Vocab at 0x7f7115cca150>,\n",
              " 'better': <gensim.models.keyedvectors.Vocab at 0x7f7115cca410>,\n",
              " 'tune': <gensim.models.keyedvectors.Vocab at 0x7f7115cca290>,\n",
              " 'options': <gensim.models.keyedvectors.Vocab at 0x7f7115ccac10>,\n",
              " 'offered': <gensim.models.keyedvectors.Vocab at 0x7f7115cca6d0>,\n",
              " 'were': <gensim.models.keyedvectors.Vocab at 0x7f7115ccab90>,\n",
              " 'horrible': <gensim.models.keyedvectors.Vocab at 0x7f70e441d650>,\n",
              " 'door': <gensim.models.keyedvectors.Vocab at 0x7f70e441d910>,\n",
              " 'opens': <gensim.models.keyedvectors.Vocab at 0x7f70e441d350>,\n",
              " 'neat': <gensim.models.keyedvectors.Vocab at 0x7f70e441d250>,\n",
              " 'enjoys': <gensim.models.keyedvectors.Vocab at 0x7f70e441d050>,\n",
              " 'features': <gensim.models.keyedvectors.Vocab at 0x7f70e441d090>,\n",
              " 'than': <gensim.models.keyedvectors.Vocab at 0x7f70e441d410>,\n",
              " 'falling': <gensim.models.keyedvectors.Vocab at 0x7f70e441d2d0>,\n",
              " 'wheels': <gensim.models.keyedvectors.Vocab at 0x7f70e441d290>,\n",
              " 'bus': <gensim.models.keyedvectors.Vocab at 0x7f70e441d190>,\n",
              " 'by': <gensim.models.keyedvectors.Vocab at 0x7f70e441d390>,\n",
              " 'duck': <gensim.models.keyedvectors.Vocab at 0x7f70e441d790>,\n",
              " 'moose': <gensim.models.keyedvectors.Vocab at 0x7f70e441d6d0>,\n",
              " 'ranks': <gensim.models.keyedvectors.Vocab at 0x7f70e441dad0>,\n",
              " 'higher': <gensim.models.keyedvectors.Vocab at 0x7f70e441ddd0>,\n",
              " 'changing': <gensim.models.keyedvectors.Vocab at 0x7f70e441df50>,\n",
              " 'gender': <gensim.models.keyedvectors.Vocab at 0x7f70e441dbd0>,\n",
              " 'instrumental': <gensim.models.keyedvectors.Vocab at 0x7f70e441d490>,\n",
              " 'self': <gensim.models.keyedvectors.Vocab at 0x7f70e441d890>,\n",
              " 'record': <gensim.models.keyedvectors.Vocab at 0x7f70e441de50>,\n",
              " 'finds': <gensim.models.keyedvectors.Vocab at 0x7f70e441da50>,\n",
              " 'hilarious': <gensim.models.keyedvectors.Vocab at 0x7f70e441da90>,\n",
              " 'hears': <gensim.models.keyedvectors.Vocab at 0x7f70e441db50>,\n",
              " 'overall': <gensim.models.keyedvectors.Vocab at 0x7f70e441dcd0>,\n",
              " 'ok': <gensim.models.keyedvectors.Vocab at 0x7f70e441db10>,\n",
              " 'animal': <gensim.models.keyedvectors.Vocab at 0x7f70e441dd10>,\n",
              " 'active': <gensim.models.keyedvectors.Vocab at 0x7f70e441dd50>,\n",
              " 'dissapointing': <gensim.models.keyedvectors.Vocab at 0x7f70e441dd90>,\n",
              " 'auto': <gensim.models.keyedvectors.Vocab at 0x7f70e441df90>,\n",
              " 'portion': <gensim.models.keyedvectors.Vocab at 0x7f70e441dfd0>,\n",
              " 'worst': <gensim.models.keyedvectors.Vocab at 0x7f70e441de10>,\n",
              " 'heard': <gensim.models.keyedvectors.Vocab at 0x7f70e441d8d0>,\n",
              " 'sat': <gensim.models.keyedvectors.Vocab at 0x7f70e441d510>,\n",
              " 'played': <gensim.models.keyedvectors.Vocab at 0x7f70e441ded0>,\n",
              " 'noticed': <gensim.models.keyedvectors.Vocab at 0x7f70e441de90>,\n",
              " 'groups': <gensim.models.keyedvectors.Vocab at 0x7f70e441df10>,\n",
              " 'manipulate': <gensim.models.keyedvectors.Vocab at 0x7f70e441db90>,\n",
              " 'such': <gensim.models.keyedvectors.Vocab at 0x7f70e441d4d0>,\n",
              " 'concept': <gensim.models.keyedvectors.Vocab at 0x7f70e441dc50>,\n",
              " 'being': <gensim.models.keyedvectors.Vocab at 0x7f70e441dc10>,\n",
              " 'happens': <gensim.models.keyedvectors.Vocab at 0x7f70e441dc90>,\n",
              " 'busy': <gensim.models.keyedvectors.Vocab at 0x7f70e441d210>,\n",
              " 'especially': <gensim.models.keyedvectors.Vocab at 0x7f70e441d750>,\n",
              " 'know': <gensim.models.keyedvectors.Vocab at 0x7f70e441d0d0>,\n",
              " 'once': <gensim.models.keyedvectors.Vocab at 0x7f70e441d450>,\n",
              " 'show': <gensim.models.keyedvectors.Vocab at 0x7f70e441d3d0>,\n",
              " 'today': <gensim.models.keyedvectors.Vocab at 0x7f70e441d810>,\n",
              " 'download': <gensim.models.keyedvectors.Vocab at 0x7f70e441d9d0>,\n",
              " 'plenty': <gensim.models.keyedvectors.Vocab at 0x7f70e441d590>,\n",
              " 'yo': <gensim.models.keyedvectors.Vocab at 0x7f70e441d110>,\n",
              " 'opened': <gensim.models.keyedvectors.Vocab at 0x7f70e441d150>,\n",
              " 'program': <gensim.models.keyedvectors.Vocab at 0x7f70e441d710>,\n",
              " 'quot': <gensim.models.keyedvectors.Vocab at 0x7f70e441d5d0>,\n",
              " 'forced': <gensim.models.keyedvectors.Vocab at 0x7f70e441d1d0>,\n",
              " 'both': <gensim.models.keyedvectors.Vocab at 0x7f70e441d690>,\n",
              " 'droid': <gensim.models.keyedvectors.Vocab at 0x7f70e441d990>,\n",
              " 'huge': <gensim.models.keyedvectors.Vocab at 0x7f70e441d610>,\n",
              " 'disappointment': <gensim.models.keyedvectors.Vocab at 0x7f70e441d550>,\n",
              " 'slightly': <gensim.models.keyedvectors.Vocab at 0x7f70e441d310>,\n",
              " 'annoying': <gensim.models.keyedvectors.Vocab at 0x7f72e6ebe050>,\n",
              " 'entertained': <gensim.models.keyedvectors.Vocab at 0x7f72e6ebe090>,\n",
              " 'trip': <gensim.models.keyedvectors.Vocab at 0x7f72e6ebee90>,\n",
              " 'types': <gensim.models.keyedvectors.Vocab at 0x7f72e6ebedd0>,\n",
              " 'yet': <gensim.models.keyedvectors.Vocab at 0x7f7115c62690>,\n",
              " 'wasn': <gensim.models.keyedvectors.Vocab at 0x7f7115c62090>,\n",
              " 'expecting': <gensim.models.keyedvectors.Vocab at 0x7f7115c62250>,\n",
              " 'sang': <gensim.models.keyedvectors.Vocab at 0x7f7115c62710>,\n",
              " 'moring': <gensim.models.keyedvectors.Vocab at 0x7f7115c62c50>,\n",
              " 'push': <gensim.models.keyedvectors.Vocab at 0x7f7115c62550>,\n",
              " 'interact': <gensim.models.keyedvectors.Vocab at 0x7f7115c62450>,\n",
              " 'videos': <gensim.models.keyedvectors.Vocab at 0x7f7115c620d0>,\n",
              " 'youtube': <gensim.models.keyedvectors.Vocab at 0x7f7115c628d0>,\n",
              " 'paying': <gensim.models.keyedvectors.Vocab at 0x7f7115c62c10>,\n",
              " 'cent': <gensim.models.keyedvectors.Vocab at 0x7f7115c62910>,\n",
              " 'variations': <gensim.models.keyedvectors.Vocab at 0x7f7115c62dd0>,\n",
              " 'entertain': <gensim.models.keyedvectors.Vocab at 0x7f7115c62f90>,\n",
              " 'don': <gensim.models.keyedvectors.Vocab at 0x7f7115c62ad0>,\n",
              " 'think': <gensim.models.keyedvectors.Vocab at 0x7f7115c62310>,\n",
              " 'll': <gensim.models.keyedvectors.Vocab at 0x7f7115c62490>,\n",
              " 'last': <gensim.models.keyedvectors.Vocab at 0x7f7115c62390>,\n",
              " 'dozen': <gensim.models.keyedvectors.Vocab at 0x7f7115c62e90>,\n",
              " 'viewings': <gensim.models.keyedvectors.Vocab at 0x7f7115c62f10>,\n",
              " 'give': <gensim.models.keyedvectors.Vocab at 0x7f7115c629d0>,\n",
              " 'rating': <gensim.models.keyedvectors.Vocab at 0x7f7115c62a90>,\n",
              " 'option': <gensim.models.keyedvectors.Vocab at 0x7f7115c62210>,\n",
              " 'lock': <gensim.models.keyedvectors.Vocab at 0x7f7115c62190>,\n",
              " 'buttons': <gensim.models.keyedvectors.Vocab at 0x7f7115c62410>,\n",
              " 'those': <gensim.models.keyedvectors.Vocab at 0x7f7115c62650>,\n",
              " 'wandering': <gensim.models.keyedvectors.Vocab at 0x7f7115c62950>,\n",
              " 'fingers': <gensim.models.keyedvectors.Vocab at 0x7f7115c62bd0>,\n",
              " 'must': <gensim.models.keyedvectors.Vocab at 0x7f7115c62ed0>,\n",
              " 'sdcard': <gensim.models.keyedvectors.Vocab at 0x7f7115c62a50>,\n",
              " 'space': <gensim.models.keyedvectors.Vocab at 0x7f7115c62850>,\n",
              " 'premium': <gensim.models.keyedvectors.Vocab at 0x7f7115c62d10>,\n",
              " 'samsung': <gensim.models.keyedvectors.Vocab at 0x7f7115c625d0>,\n",
              " 'galaxy': <gensim.models.keyedvectors.Vocab at 0x7f7115c62150>,\n",
              " 'between': <gensim.models.keyedvectors.Vocab at 0x7f7115c62a10>,\n",
              " 'stars': <gensim.models.keyedvectors.Vocab at 0x7f7115c62350>,\n",
              " 'might': <gensim.models.keyedvectors.Vocab at 0x7f7115c626d0>,\n",
              " 'interested': <gensim.models.keyedvectors.Vocab at 0x7f7115c62050>,\n",
              " 'amp': <gensim.models.keyedvectors.Vocab at 0x7f7115c622d0>,\n",
              " 'preschool': <gensim.models.keyedvectors.Vocab at 0x7f70e4428790>,\n",
              " 'mean': <gensim.models.keyedvectors.Vocab at 0x7f70e4428990>,\n",
              " 'made': <gensim.models.keyedvectors.Vocab at 0x7f70e4428150>,\n",
              " 'xoom': <gensim.models.keyedvectors.Vocab at 0x7f70e4428190>,\n",
              " 'adorable': <gensim.models.keyedvectors.Vocab at 0x7f70e4428450>,\n",
              " 'amuses': <gensim.models.keyedvectors.Vocab at 0x7f70e4428590>,\n",
              " 'happen': <gensim.models.keyedvectors.Vocab at 0x7f70e44282d0>,\n",
              " 'fullscreen': <gensim.models.keyedvectors.Vocab at 0x7f70e4428a10>,\n",
              " 'honeycomb': <gensim.models.keyedvectors.Vocab at 0x7f70e44289d0>,\n",
              " 'songs': <gensim.models.keyedvectors.Vocab at 0x7f70e4428950>,\n",
              " 'animations': <gensim.models.keyedvectors.Vocab at 0x7f70e4428dd0>,\n",
              " 'teacher': <gensim.models.keyedvectors.Vocab at 0x7f70e4428350>,\n",
              " 'parent': <gensim.models.keyedvectors.Vocab at 0x7f70e4428c50>,\n",
              " 'guns': <gensim.models.keyedvectors.Vocab at 0x7f70e4428510>,\n",
              " 'free': <gensim.models.keyedvectors.Vocab at 0x7f70e4428090>,\n",
              " 'letter': <gensim.models.keyedvectors.Vocab at 0x7f70e4428a50>,\n",
              " 'makes': <gensim.models.keyedvectors.Vocab at 0x7f70e4428110>,\n",
              " 'laugh': <gensim.models.keyedvectors.Vocab at 0x7f70e4428690>,\n",
              " 'having': <gensim.models.keyedvectors.Vocab at 0x7f70e4428550>,\n",
              " 'blast': <gensim.models.keyedvectors.Vocab at 0x7f70e44284d0>,\n",
              " 'series': <gensim.models.keyedvectors.Vocab at 0x7f70e4428bd0>,\n",
              " 'fantastic': <gensim.models.keyedvectors.Vocab at 0x7f70e4428210>,\n",
              " 'looking': <gensim.models.keyedvectors.Vocab at 0x7f70e4428fd0>,\n",
              " 'forward': <gensim.models.keyedvectors.Vocab at 0x7f70e44283d0>,\n",
              " 'watching': <gensim.models.keyedvectors.Vocab at 0x7f70e4428d90>,\n",
              " 'fit': <gensim.models.keyedvectors.Vocab at 0x7f70e4428750>,\n",
              " 'uses': <gensim.models.keyedvectors.Vocab at 0x7f70e4428310>,\n",
              " 'ratio': <gensim.models.keyedvectors.Vocab at 0x7f70e44287d0>,\n",
              " 'complete': <gensim.models.keyedvectors.Vocab at 0x7f70e4428c10>,\n",
              " 'basicly': <gensim.models.keyedvectors.Vocab at 0x7f70e4428ed0>,\n",
              " 'graphics': <gensim.models.keyedvectors.Vocab at 0x7f70e4428f90>,\n",
              " 'buy': <gensim.models.keyedvectors.Vocab at 0x7f70e4428e90>,\n",
              " 'written': <gensim.models.keyedvectors.Vocab at 0x7f70e4428f10>,\n",
              " 'review': <gensim.models.keyedvectors.Vocab at 0x7f70e4428e50>,\n",
              " 'share': <gensim.models.keyedvectors.Vocab at 0x7f70e4428f50>,\n",
              " 'western': <gensim.models.keyedvectors.Vocab at 0x7f70e4428b50>,\n",
              " 'thrill': <gensim.models.keyedvectors.Vocab at 0x7f70e4428e10>,\n",
              " 'bouncing': <gensim.models.keyedvectors.Vocab at 0x7f70e4428890>,\n",
              " 'warned': <gensim.models.keyedvectors.Vocab at 0x7f70e4428850>,\n",
              " 'though': <gensim.models.keyedvectors.Vocab at 0x7f70e44288d0>,\n",
              " 'spots': <gensim.models.keyedvectors.Vocab at 0x7f70e4428910>,\n",
              " 'let': <gensim.models.keyedvectors.Vocab at 0x7f70e4428b90>,\n",
              " 'sample': <gensim.models.keyedvectors.Vocab at 0x7f70e4428a90>,\n",
              " 'sec': <gensim.models.keyedvectors.Vocab at 0x7f70e4428290>,\n",
              " 'computer': <gensim.models.keyedvectors.Vocab at 0x7f70e44280d0>,\n",
              " 'talk': <gensim.models.keyedvectors.Vocab at 0x7f70e44285d0>,\n",
              " 'sell': <gensim.models.keyedvectors.Vocab at 0x7f70e4428250>,\n",
              " 'join': <gensim.models.keyedvectors.Vocab at 0x7f70e4428490>,\n",
              " 'membership': <gensim.models.keyedvectors.Vocab at 0x7f70e43de050>,\n",
              " 'combine': <gensim.models.keyedvectors.Vocab at 0x7f70e43de090>,\n",
              " 'cause': <gensim.models.keyedvectors.Vocab at 0x7f70e43de0d0>,\n",
              " 'rhapsody': <gensim.models.keyedvectors.Vocab at 0x7f70e43de110>,\n",
              " 'unit': <gensim.models.keyedvectors.Vocab at 0x7f70e43de150>,\n",
              " 'account': <gensim.models.keyedvectors.Vocab at 0x7f70e43de190>,\n",
              " 'mine': <gensim.models.keyedvectors.Vocab at 0x7f70e43de1d0>,\n",
              " 'look': <gensim.models.keyedvectors.Vocab at 0x7f70e43de210>,\n",
              " 'worse': <gensim.models.keyedvectors.Vocab at 0x7f70e43de250>,\n",
              " 'best': <gensim.models.keyedvectors.Vocab at 0x7f70e43de290>,\n",
              " 'far': <gensim.models.keyedvectors.Vocab at 0x7f70e43de2d0>,\n",
              " 'wonderful': <gensim.models.keyedvectors.Vocab at 0x7f70e43de310>,\n",
              " 'catalog': <gensim.models.keyedvectors.Vocab at 0x7f70e43de350>,\n",
              " 'date': <gensim.models.keyedvectors.Vocab at 0x7f70e43de390>,\n",
              " 'need': <gensim.models.keyedvectors.Vocab at 0x7f70e43de3d0>,\n",
              " 'service': <gensim.models.keyedvectors.Vocab at 0x7f70e43de410>,\n",
              " 'alternative': <gensim.models.keyedvectors.Vocab at 0x7f70e43de450>,\n",
              " 'hear': <gensim.models.keyedvectors.Vocab at 0x7f70e43de490>,\n",
              " 'trial': <gensim.models.keyedvectors.Vocab at 0x7f70e43de4d0>,\n",
              " 'period': <gensim.models.keyedvectors.Vocab at 0x7f70e43de510>,\n",
              " 'sounds': <gensim.models.keyedvectors.Vocab at 0x7f70e43de550>,\n",
              " 'thing': <gensim.models.keyedvectors.Vocab at 0x7f70e43de590>,\n",
              " 'sign': <gensim.models.keyedvectors.Vocab at 0x7f70e43de5d0>,\n",
              " 'wanna': <gensim.models.keyedvectors.Vocab at 0x7f70e43de610>,\n",
              " 'supposed': <gensim.models.keyedvectors.Vocab at 0x7f70e43de650>,\n",
              " 'getting': <gensim.models.keyedvectors.Vocab at 0x7f70e43de690>,\n",
              " 'subscription': <gensim.models.keyedvectors.Vocab at 0x7f70e43de6d0>,\n",
              " 'extend': <gensim.models.keyedvectors.Vocab at 0x7f70e43de710>,\n",
              " 'put': <gensim.models.keyedvectors.Vocab at 0x7f70e43de750>,\n",
              " 'cost': <gensim.models.keyedvectors.Vocab at 0x7f70e43de790>,\n",
              " 'pandora': <gensim.models.keyedvectors.Vocab at 0x7f70e43de7d0>,\n",
              " 'others': <gensim.models.keyedvectors.Vocab at 0x7f70e43de810>,\n",
              " 'offer': <gensim.models.keyedvectors.Vocab at 0x7f70e43de850>,\n",
              " 'comparable': <gensim.models.keyedvectors.Vocab at 0x7f70e43de890>,\n",
              " 'services': <gensim.models.keyedvectors.Vocab at 0x7f70e43de8d0>,\n",
              " 'why': <gensim.models.keyedvectors.Vocab at 0x7f70e43de910>,\n",
              " 'transfer': <gensim.models.keyedvectors.Vocab at 0x7f70e43de950>,\n",
              " 'purchase': <gensim.models.keyedvectors.Vocab at 0x7f70e43de990>,\n",
              " 'usually': <gensim.models.keyedvectors.Vocab at 0x7f70e43de9d0>,\n",
              " 'itunes': <gensim.models.keyedvectors.Vocab at 0x7f70e43dea10>,\n",
              " 'allows': <gensim.models.keyedvectors.Vocab at 0x7f70e43dea50>,\n",
              " 'albums': <gensim.models.keyedvectors.Vocab at 0x7f70e43dea90>,\n",
              " 'allowed': <gensim.models.keyedvectors.Vocab at 0x7f70e43dead0>,\n",
              " 'allow': <gensim.models.keyedvectors.Vocab at 0x7f70e43deb10>,\n",
              " 'subscribers': <gensim.models.keyedvectors.Vocab at 0x7f70e43deb50>,\n",
              " 'fee': <gensim.models.keyedvectors.Vocab at 0x7f70e43deb90>,\n",
              " 'selections': <gensim.models.keyedvectors.Vocab at 0x7f70e43debd0>,\n",
              " 'interface': <gensim.models.keyedvectors.Vocab at 0x7f70e43dec10>,\n",
              " 'playlists': <gensim.models.keyedvectors.Vocab at 0x7f70e43dec50>,\n",
              " 'everyone': <gensim.models.keyedvectors.Vocab at 0x7f70e43dec90>,\n",
              " 'family': <gensim.models.keyedvectors.Vocab at 0x7f70e43decd0>,\n",
              " 'hubby': <gensim.models.keyedvectors.Vocab at 0x7f70e43ded10>,\n",
              " 'pc': <gensim.models.keyedvectors.Vocab at 0x7f70e43ded50>,\n",
              " 'mp': <gensim.models.keyedvectors.Vocab at 0x7f70e43ded90>,\n",
              " 'players': <gensim.models.keyedvectors.Vocab at 0x7f70e43dedd0>,\n",
              " 'apple': <gensim.models.keyedvectors.Vocab at 0x7f70e43dee10>,\n",
              " 'products': <gensim.models.keyedvectors.Vocab at 0x7f70e43dee50>,\n",
              " 'tested': <gensim.models.keyedvectors.Vocab at 0x7f70e43dee90>,\n",
              " 'sonos': <gensim.models.keyedvectors.Vocab at 0x7f70e43deed0>,\n",
              " 'complaint': <gensim.models.keyedvectors.Vocab at 0x7f70e43def10>,\n",
              " 'customize': <gensim.models.keyedvectors.Vocab at 0x7f70e43def50>,\n",
              " 'plan': <gensim.models.keyedvectors.Vocab at 0x7f70e43def90>,\n",
              " 'extra': <gensim.models.keyedvectors.Vocab at 0x7f70e43defd0>,\n",
              " 'second': <gensim.models.keyedvectors.Vocab at 0x7f70e43e1050>,\n",
              " 'capacity': <gensim.models.keyedvectors.Vocab at 0x7f70e43e1090>,\n",
              " 'whole': <gensim.models.keyedvectors.Vocab at 0x7f70e43e10d0>,\n",
              " 'everyday': <gensim.models.keyedvectors.Vocab at 0x7f70e43e1110>,\n",
              " 'interuptions': <gensim.models.keyedvectors.Vocab at 0x7f70e43e1150>,\n",
              " 'without': <gensim.models.keyedvectors.Vocab at 0x7f70e43e1190>,\n",
              " 'buying': <gensim.models.keyedvectors.Vocab at 0x7f70e43e11d0>,\n",
              " 'until': <gensim.models.keyedvectors.Vocab at 0x7f70e43e1210>,\n",
              " 'new': <gensim.models.keyedvectors.Vocab at 0x7f70e43e1250>,\n",
              " 'monthly': <gensim.models.keyedvectors.Vocab at 0x7f70e43e1290>,\n",
              " 'price': <gensim.models.keyedvectors.Vocab at 0x7f70e43e12d0>,\n",
              " 'cd': <gensim.models.keyedvectors.Vocab at 0x7f70e43e1310>,\n",
              " 'smart': <gensim.models.keyedvectors.Vocab at 0x7f70e43e1350>,\n",
              " 'laptop': <gensim.models.keyedvectors.Vocab at 0x7f70e43e1390>,\n",
              " 'devices': <gensim.models.keyedvectors.Vocab at 0x7f70e43e13d0>,\n",
              " 'issues': <gensim.models.keyedvectors.Vocab at 0x7f70e43e1410>,\n",
              " 'live': <gensim.models.keyedvectors.Vocab at 0x7f70e43e1450>,\n",
              " 'device': <gensim.models.keyedvectors.Vocab at 0x7f70e43e1490>,\n",
              " 'take': <gensim.models.keyedvectors.Vocab at 0x7f70e43e14d0>,\n",
              " 'wherever': <gensim.models.keyedvectors.Vocab at 0x7f70e43e1510>,\n",
              " 'whatever': <gensim.models.keyedvectors.Vocab at 0x7f70e43e1550>,\n",
              " 'aware': <gensim.models.keyedvectors.Vocab at 0x7f70e43e1590>,\n",
              " 'range': <gensim.models.keyedvectors.Vocab at 0x7f70e43e15d0>,\n",
              " 'per': <gensim.models.keyedvectors.Vocab at 0x7f70e43e1610>,\n",
              " 'obscure': <gensim.models.keyedvectors.Vocab at 0x7f70e43e1650>,\n",
              " 'seem': <gensim.models.keyedvectors.Vocab at 0x7f70e43e1690>,\n",
              " 'database': <gensim.models.keyedvectors.Vocab at 0x7f70e43e16d0>,\n",
              " 'artist': <gensim.models.keyedvectors.Vocab at 0x7f70e43e1710>,\n",
              " 'selection': <gensim.models.keyedvectors.Vocab at 0x7f70e43e1750>,\n",
              " 'similar': <gensim.models.keyedvectors.Vocab at 0x7f70e43e1790>,\n",
              " 'artists': <gensim.models.keyedvectors.Vocab at 0x7f70e43e17d0>,\n",
              " 'discovered': <gensim.models.keyedvectors.Vocab at 0x7f70e43e1810>,\n",
              " 'few': <gensim.models.keyedvectors.Vocab at 0x7f70e43e1850>,\n",
              " 'bands': <gensim.models.keyedvectors.Vocab at 0x7f70e43e1890>,\n",
              " 'function': <gensim.models.keyedvectors.Vocab at 0x7f70e43e18d0>,\n",
              " 'yes': <gensim.models.keyedvectors.Vocab at 0x7f70e43e1910>,\n",
              " 'helped': <gensim.models.keyedvectors.Vocab at 0x7f70e43e1950>,\n",
              " 'sanity': <gensim.models.keyedvectors.Vocab at 0x7f70e43e1990>,\n",
              " 'amazon': <gensim.models.keyedvectors.Vocab at 0x7f70e43e19d0>,\n",
              " 'liked': <gensim.models.keyedvectors.Vocab at 0x7f70e43e1a10>,\n",
              " 'tried': <gensim.models.keyedvectors.Vocab at 0x7f70e43e1a50>,\n",
              " 'asked': <gensim.models.keyedvectors.Vocab at 0x7f70e43e1a90>,\n",
              " 'opinion': <gensim.models.keyedvectors.Vocab at 0x7f70e43e1ad0>,\n",
              " 'here': <gensim.models.keyedvectors.Vocab at 0x7f70e43e1b10>,\n",
              " 'rhaspody': <gensim.models.keyedvectors.Vocab at 0x7f70e43e1b50>,\n",
              " 'extremely': <gensim.models.keyedvectors.Vocab at 0x7f70e43e1b90>,\n",
              " 'large': <gensim.models.keyedvectors.Vocab at 0x7f70e43e1bd0>,\n",
              " 'array': <gensim.models.keyedvectors.Vocab at 0x7f70e43e1c10>,\n",
              " 'line': <gensim.models.keyedvectors.Vocab at 0x7f70e43e1c50>,\n",
              " 'day': <gensim.models.keyedvectors.Vocab at 0x7f70e43e1c90>,\n",
              " 'meens': <gensim.models.keyedvectors.Vocab at 0x7f70e43e1cd0>,\n",
              " 'listening': <gensim.models.keyedvectors.Vocab at 0x7f70e43e1d10>,\n",
              " 'favorites': <gensim.models.keyedvectors.Vocab at 0x7f70e43e1d50>,\n",
              " 'discovering': <gensim.models.keyedvectors.Vocab at 0x7f70e43e1d90>,\n",
              " 'offline': <gensim.models.keyedvectors.Vocab at 0x7f70e43e1dd0>,\n",
              " 'kept': <gensim.models.keyedvectors.Vocab at 0x7f70e43e1e10>,\n",
              " 'giving': <gensim.models.keyedvectors.Vocab at 0x7f70e43e1e50>,\n",
              " 'updated': <gensim.models.keyedvectors.Vocab at 0x7f70e43e1e90>,\n",
              " 'flash': <gensim.models.keyedvectors.Vocab at 0x7f70e43e1ed0>,\n",
              " 'several': <gensim.models.keyedvectors.Vocab at 0x7f70e43e1f10>,\n",
              " 'none': <gensim.models.keyedvectors.Vocab at 0x7f70e43e1f50>,\n",
              " 'seemed': <gensim.models.keyedvectors.Vocab at 0x7f70e43e1f90>,\n",
              " 'match': <gensim.models.keyedvectors.Vocab at 0x7f70e43e1fd0>,\n",
              " 'settings': <gensim.models.keyedvectors.Vocab at 0x7f70e43e5050>,\n",
              " 'didn': <gensim.models.keyedvectors.Vocab at 0x7f70e43e5090>,\n",
              " 'either': <gensim.models.keyedvectors.Vocab at 0x7f70e43e50d0>,\n",
              " 'ways': <gensim.models.keyedvectors.Vocab at 0x7f70e43e5110>,\n",
              " 'access': <gensim.models.keyedvectors.Vocab at 0x7f70e43e5150>,\n",
              " 'deleted': <gensim.models.keyedvectors.Vocab at 0x7f70e43e5190>,\n",
              " 'downloads': <gensim.models.keyedvectors.Vocab at 0x7f70e43e51d0>,\n",
              " 'fact': <gensim.models.keyedvectors.Vocab at 0x7f70e43e5210>,\n",
              " 'lags': <gensim.models.keyedvectors.Vocab at 0x7f70e43e5250>,\n",
              " 'internet': <gensim.models.keyedvectors.Vocab at 0x7f70e43e5290>,\n",
              " 'product': <gensim.models.keyedvectors.Vocab at 0x7f70e43e52d0>,\n",
              " 'affordable': <gensim.models.keyedvectors.Vocab at 0x7f70e43e5310>,\n",
              " 'wasting': <gensim.models.keyedvectors.Vocab at 0x7f70e43e5350>,\n",
              " 'acct': <gensim.models.keyedvectors.Vocab at 0x7f70e43e5390>,\n",
              " 'yeah': <gensim.models.keyedvectors.Vocab at 0x7f70e43e53d0>,\n",
              " 'where': <gensim.models.keyedvectors.Vocab at 0x7f70e43e5410>,\n",
              " 'instructions': <gensim.models.keyedvectors.Vocab at 0x7f70e43e5450>,\n",
              " 'help': <gensim.models.keyedvectors.Vocab at 0x7f70e43e5490>,\n",
              " 'surprise': <gensim.models.keyedvectors.Vocab at 0x7f70e43e54d0>,\n",
              " 'come': <gensim.models.keyedvectors.Vocab at 0x7f70e43e5510>,\n",
              " 'another': <gensim.models.keyedvectors.Vocab at 0x7f70e43e5550>,\n",
              " 'storyand': <gensim.models.keyedvectors.Vocab at 0x7f70e43e5590>,\n",
              " 'card': <gensim.models.keyedvectors.Vocab at 0x7f70e43e55d0>,\n",
              " 'information': <gensim.models.keyedvectors.Vocab at 0x7f70e43e5610>,\n",
              " 'told': <gensim.models.keyedvectors.Vocab at 0x7f70e43e5650>,\n",
              " 'charge': <gensim.models.keyedvectors.Vocab at 0x7f70e43e5690>,\n",
              " 'suppose': <gensim.models.keyedvectors.Vocab at 0x7f70e43e56d0>,\n",
              " 'someone': <gensim.models.keyedvectors.Vocab at 0x7f70e43e5710>,\n",
              " 'else': <gensim.models.keyedvectors.Vocab at 0x7f70e43e5750>,\n",
              " 'maybe': <gensim.models.keyedvectors.Vocab at 0x7f70e43e5790>,\n",
              " 'lost': <gensim.models.keyedvectors.Vocab at 0x7f70e43e57d0>,\n",
              " 'lol': <gensim.models.keyedvectors.Vocab at 0x7f70e43e5810>,\n",
              " 'nothing': <gensim.models.keyedvectors.Vocab at 0x7f70e43e5850>,\n",
              " 'exceptional': <gensim.models.keyedvectors.Vocab at 0x7f70e43e5890>,\n",
              " 'subscriber': <gensim.models.keyedvectors.Vocab at 0x7f70e43e58d0>,\n",
              " 'years': <gensim.models.keyedvectors.Vocab at 0x7f70e43e5910>,\n",
              " 'real': <gensim.models.keyedvectors.Vocab at 0x7f70e43e5950>,\n",
              " 'passion': <gensim.models.keyedvectors.Vocab at 0x7f70e43e5990>,\n",
              " 'life': <gensim.models.keyedvectors.Vocab at 0x7f70e43e59d0>,\n",
              " 'kinds': <gensim.models.keyedvectors.Vocab at 0x7f70e43e5a10>,\n",
              " 'lets': <gensim.models.keyedvectors.Vocab at 0x7f70e43e5a50>,\n",
              " 'serve': <gensim.models.keyedvectors.Vocab at 0x7f70e43e5a90>,\n",
              " 'whims': <gensim.models.keyedvectors.Vocab at 0x7f70e43e5ad0>,\n",
              " 'mood': <gensim.models.keyedvectors.Vocab at 0x7f70e43e5b10>,\n",
              " 'shortcoming': <gensim.models.keyedvectors.Vocab at 0x7f70e43e5b50>,\n",
              " 'lacks': <gensim.models.keyedvectors.Vocab at 0x7f70e43e5b90>,\n",
              " 'doo': <gensim.models.keyedvectors.Vocab at 0x7f70e43e5bd0>,\n",
              " 'wop': <gensim.models.keyedvectors.Vocab at 0x7f70e43e5c10>,\n",
              " 'performers': <gensim.models.keyedvectors.Vocab at 0x7f70e43e5c50>,\n",
              " 'big': <gensim.models.keyedvectors.Vocab at 0x7f70e43e5c90>,\n",
              " 'mix': <gensim.models.keyedvectors.Vocab at 0x7f70e43e5cd0>,\n",
              " 'togh': <gensim.models.keyedvectors.Vocab at 0x7f70e43e5d10>,\n",
              " 'individual': <gensim.models.keyedvectors.Vocab at 0x7f70e43e5d50>,\n",
              " 'performances': <gensim.models.keyedvectors.Vocab at 0x7f70e43e5d90>,\n",
              " 'otherwise': <gensim.models.keyedvectors.Vocab at 0x7f70e43e5dd0>,\n",
              " 'totally': <gensim.models.keyedvectors.Vocab at 0x7f70e43e5e10>,\n",
              " 'streaming': <gensim.models.keyedvectors.Vocab at 0x7f70e43e5e50>,\n",
              " 'wifi': <gensim.models.keyedvectors.Vocab at 0x7f70e43e5e90>,\n",
              " 'slow': <gensim.models.keyedvectors.Vocab at 0x7f70e43e5ed0>,\n",
              " 'forever': <gensim.models.keyedvectors.Vocab at 0x7f70e43e5f10>,\n",
              " 'view': <gensim.models.keyedvectors.Vocab at 0x7f70e43e5f50>,\n",
              " 'bars': <gensim.models.keyedvectors.Vocab at 0x7f70e43e5f90>,\n",
              " 'shouldnt': <gensim.models.keyedvectors.Vocab at 0x7f70e43e5fd0>,\n",
              " 'stream': <gensim.models.keyedvectors.Vocab at 0x7f70e43e8050>,\n",
              " 'friend': <gensim.models.keyedvectors.Vocab at 0x7f70e43e8090>,\n",
              " 'playlist': <gensim.models.keyedvectors.Vocab at 0x7f70e43e80d0>,\n",
              " 'add': <gensim.models.keyedvectors.Vocab at 0x7f70e43e8110>,\n",
              " 'confusing': <gensim.models.keyedvectors.Vocab at 0x7f70e43e8150>,\n",
              " 'mostly': <gensim.models.keyedvectors.Vocab at 0x7f70e43e8190>,\n",
              " 'stopped': <gensim.models.keyedvectors.Vocab at 0x7f70e43e81d0>,\n",
              " 'uninstalled': <gensim.models.keyedvectors.Vocab at 0x7f70e43e8210>,\n",
              " 'reinstalled': <gensim.models.keyedvectors.Vocab at 0x7f70e43e8250>,\n",
              " 'wont': <gensim.models.keyedvectors.Vocab at 0x7f70e43e8290>,\n",
              " 'glicthy': <gensim.models.keyedvectors.Vocab at 0x7f70e43e82d0>,\n",
              " 'fix': <gensim.models.keyedvectors.Vocab at 0x7f70e43e8310>,\n",
              " 'miss': <gensim.models.keyedvectors.Vocab at 0x7f70e43e8350>,\n",
              " 'whereas': <gensim.models.keyedvectors.Vocab at 0x7f70e43e8390>,\n",
              " 'seconds': <gensim.models.keyedvectors.Vocab at 0x7f70e43e83d0>,\n",
              " 'entire': <gensim.models.keyedvectors.Vocab at 0x7f70e43e8410>,\n",
              " 'album': <gensim.models.keyedvectors.Vocab at 0x7f70e43e8450>,\n",
              " 'majority': <gensim.models.keyedvectors.Vocab at 0x7f70e43e8490>,\n",
              " 'fanatic': <gensim.models.keyedvectors.Vocab at 0x7f70e43e84d0>,\n",
              " 'poorly': <gensim.models.keyedvectors.Vocab at 0x7f70e43e8510>,\n",
              " 'together': <gensim.models.keyedvectors.Vocab at 0x7f70e43e8550>,\n",
              " 'created': <gensim.models.keyedvectors.Vocab at 0x7f70e43e8590>,\n",
              " 'version': <gensim.models.keyedvectors.Vocab at 0x7f70e43e85d0>,\n",
              " 'user': <gensim.models.keyedvectors.Vocab at 0x7f70e43e8610>,\n",
              " 'friendly': <gensim.models.keyedvectors.Vocab at 0x7f70e43e8650>,\n",
              " 'wanting': <gensim.models.keyedvectors.Vocab at 0x7f70e43e8690>,\n",
              " 'personal': <gensim.models.keyedvectors.Vocab at 0x7f70e43e86d0>,\n",
              " 'rather': <gensim.models.keyedvectors.Vocab at 0x7f70e43e8710>,\n",
              " 'radio': <gensim.models.keyedvectors.Vocab at 0x7f70e43e8750>,\n",
              " 'station': <gensim.models.keyedvectors.Vocab at 0x7f70e43e8790>,\n",
              " 'certain': <gensim.models.keyedvectors.Vocab at 0x7f70e43e87d0>,\n",
              " 'genre': <gensim.models.keyedvectors.Vocab at 0x7f70e43e8810>,\n",
              " 'control': <gensim.models.keyedvectors.Vocab at 0x7f70e43e8850>,\n",
              " 'synched': <gensim.models.keyedvectors.Vocab at 0x7f70e43e8890>,\n",
              " 'tracks': <gensim.models.keyedvectors.Vocab at 0x7f70e43e88d0>,\n",
              " 'killer': <gensim.models.keyedvectors.Vocab at 0x7f70e43e8910>,\n",
              " 'stations': <gensim.models.keyedvectors.Vocab at 0x7f70e43e8950>,\n",
              " 'part': <gensim.models.keyedvectors.Vocab at 0x7f70e43e8990>,\n",
              " 'save': <gensim.models.keyedvectors.Vocab at 0x7f70e43e89d0>,\n",
              " 'listed': <gensim.models.keyedvectors.Vocab at 0x7f70e43e8a10>,\n",
              " 'connected': <gensim.models.keyedvectors.Vocab at 0x7f70e43e8a50>,\n",
              " 'say': <gensim.models.keyedvectors.Vocab at 0x7f70e43e8a90>,\n",
              " 'easiest': <gensim.models.keyedvectors.Vocab at 0x7f70e43e8ad0>,\n",
              " 'classic': <gensim.models.keyedvectors.Vocab at 0x7f70e43e8b10>,\n",
              " 'runner': <gensim.models.keyedvectors.Vocab at 0x7f70e43e8b50>,\n",
              " 'lists': <gensim.models.keyedvectors.Vocab at 0x7f70e43e8b90>,\n",
              " 'nuf': <gensim.models.keyedvectors.Vocab at 0x7f70e43e8bd0>,\n",
              " 'member': <gensim.models.keyedvectors.Vocab at 0x7f70e43e8c10>,\n",
              " 'hdx': <gensim.models.keyedvectors.Vocab at 0x7f70e43e8c50>,\n",
              " 'surprised': <gensim.models.keyedvectors.Vocab at 0x7f70e43e8c90>,\n",
              " 'knowing': <gensim.models.keyedvectors.Vocab at 0x7f70e43e8cd0>,\n",
              " 'involved': <gensim.models.keyedvectors.Vocab at 0x7f70e43e8d10>,\n",
              " 'breeze': <gensim.models.keyedvectors.Vocab at 0x7f70e43e8d50>,\n",
              " 'collection': <gensim.models.keyedvectors.Vocab at 0x7f70e43e8d90>,\n",
              " 'gathering': <gensim.models.keyedvectors.Vocab at 0x7f70e43e8dd0>,\n",
              " 'dust': <gensim.models.keyedvectors.Vocab at 0x7f70e43e8e10>,\n",
              " 'hooked': <gensim.models.keyedvectors.Vocab at 0x7f70e43e8e50>,\n",
              " 'couple': <gensim.models.keyedvectors.Vocab at 0x7f70e43e8e90>,\n",
              " 'ago': <gensim.models.keyedvectors.Vocab at 0x7f70e43e8ed0>,\n",
              " 'cheapest': <gensim.models.keyedvectors.Vocab at 0x7f70e43e8f10>,\n",
              " 'attention': <gensim.models.keyedvectors.Vocab at 0x7f70e43e8f50>,\n",
              " 'carry': <gensim.models.keyedvectors.Vocab at 0x7f70e43e8f90>,\n",
              " 'ipod': <gensim.models.keyedvectors.Vocab at 0x7f70e43e8fd0>,\n",
              " 'exceptions': <gensim.models.keyedvectors.Vocab at 0x7f70e43ea050>,\n",
              " 'beatles': <gensim.models.keyedvectors.Vocab at 0x7f70e43ea090>,\n",
              " 'garth': <gensim.models.keyedvectors.Vocab at 0x7f70e43ea0d0>,\n",
              " 'brooks': <gensim.models.keyedvectors.Vocab at 0x7f70e43ea110>,\n",
              " 'stuff': <gensim.models.keyedvectors.Vocab at 0x7f70e43ea150>,\n",
              " 'susbscriber': <gensim.models.keyedvectors.Vocab at 0x7f70e43ea190>,\n",
              " 'reliable': <gensim.models.keyedvectors.Vocab at 0x7f70e43ea1d0>,\n",
              " 'value': <gensim.models.keyedvectors.Vocab at 0x7f70e43ea210>,\n",
              " 'latest': <gensim.models.keyedvectors.Vocab at 0x7f70e43ea250>,\n",
              " 'smartphone': <gensim.models.keyedvectors.Vocab at 0x7f70e43ea290>,\n",
              " 'level': <gensim.models.keyedvectors.Vocab at 0x7f70e43ea2d0>,\n",
              " 'ui': <gensim.models.keyedvectors.Vocab at 0x7f70e43ea310>,\n",
              " 'improved': <gensim.models.keyedvectors.Vocab at 0x7f70e43ea350>,\n",
              " 'intuative': <gensim.models.keyedvectors.Vocab at 0x7f70e43ea390>,\n",
              " 'recommendations': <gensim.models.keyedvectors.Vocab at 0x7f70e43ea3d0>,\n",
              " 'releases': <gensim.models.keyedvectors.Vocab at 0x7f70e43ea410>,\n",
              " 'desktop': <gensim.models.keyedvectors.Vocab at 0x7f70e43ea450>,\n",
              " 'software': <gensim.models.keyedvectors.Vocab at 0x7f70e43ea490>,\n",
              " 'history': <gensim.models.keyedvectors.Vocab at 0x7f70e43ea4d0>,\n",
              " 'preference': <gensim.models.keyedvectors.Vocab at 0x7f70e43ea510>,\n",
              " 'excellent': <gensim.models.keyedvectors.Vocab at 0x7f70e43ea550>,\n",
              " 'resource': <gensim.models.keyedvectors.Vocab at 0x7f70e43ea590>,\n",
              " 'luv': <gensim.models.keyedvectors.Vocab at 0x7f70e43ea5d0>,\n",
              " 'playback': <gensim.models.keyedvectors.Vocab at 0x7f70e43ea610>,\n",
              " 'car': <gensim.models.keyedvectors.Vocab at 0x7f70e43ea650>,\n",
              " 'coverage': <gensim.models.keyedvectors.Vocab at 0x7f70e43ea690>,\n",
              " 'ain': <gensim.models.keyedvectors.Vocab at 0x7f70e43ea6d0>,\n",
              " 'replaced': <gensim.models.keyedvectors.Vocab at 0x7f70e43ea710>,\n",
              " 'penny': <gensim.models.keyedvectors.Vocab at 0x7f70e43ea750>,\n",
              " 'lover': <gensim.models.keyedvectors.Vocab at 0x7f70e43ea790>,\n",
              " 'comes': <gensim.models.keyedvectors.Vocab at 0x7f70e43ea7d0>,\n",
              " 'offers': <gensim.models.keyedvectors.Vocab at 0x7f70e43ea810>,\n",
              " 'experiences': <gensim.models.keyedvectors.Vocab at 0x7f70e43ea850>,\n",
              " 'spotify': <gensim.models.keyedvectors.Vocab at 0x7f70e43ea890>,\n",
              " 'revolves': <gensim.models.keyedvectors.Vocab at 0x7f70e43ea8d0>,\n",
              " 'heavily': <gensim.models.keyedvectors.Vocab at 0x7f70e43ea910>,\n",
              " 'easier': <gensim.models.keyedvectors.Vocab at 0x7f70e43ea950>,\n",
              " 'includes': <gensim.models.keyedvectors.Vocab at 0x7f70e43ea990>,\n",
              " 'saved': <gensim.models.keyedvectors.Vocab at 0x7f70e43ea9d0>,\n",
              " 'library': <gensim.models.keyedvectors.Vocab at 0x7f70e43eaa10>,\n",
              " 'plus': <gensim.models.keyedvectors.Vocab at 0x7f70e43eaa50>,\n",
              " 'visual': <gensim.models.keyedvectors.Vocab at 0x7f70e43eaa90>,\n",
              " 'appearance': <gensim.models.keyedvectors.Vocab at 0x7f70e43eaad0>,\n",
              " 'sound': <gensim.models.keyedvectors.Vocab at 0x7f70e43eab10>,\n",
              " 'quality': <gensim.models.keyedvectors.Vocab at 0x7f70e43eab50>,\n",
              " 'tops': <gensim.models.keyedvectors.Vocab at 0x7f70e43eab90>,\n",
              " 'kbps': <gensim.models.keyedvectors.Vocab at 0x7f70e43eabd0>,\n",
              " 'aac': <gensim.models.keyedvectors.Vocab at 0x7f70e43eac10>,\n",
              " 'high': <gensim.models.keyedvectors.Vocab at 0x7f70e43eac50>,\n",
              " 'experience': <gensim.models.keyedvectors.Vocab at 0x7f70e43eac90>,\n",
              " 'lower': <gensim.models.keyedvectors.Vocab at 0x7f70e43eacd0>,\n",
              " 'setting': <gensim.models.keyedvectors.Vocab at 0x7f70e43ead10>,\n",
              " 'data': <gensim.models.keyedvectors.Vocab at 0x7f70e43ead50>,\n",
              " 'usage': <gensim.models.keyedvectors.Vocab at 0x7f70e43ead90>,\n",
              " 'listened': <gensim.models.keyedvectors.Vocab at 0x7f70e43eadd0>,\n",
              " 'demand': <gensim.models.keyedvectors.Vocab at 0x7f70e43eae10>,\n",
              " 'ad': <gensim.models.keyedvectors.Vocab at 0x7f70e43eae50>,\n",
              " 'requires': <gensim.models.keyedvectors.Vocab at 0x7f70e43eae90>,\n",
              " 'currently': <gensim.models.keyedvectors.Vocab at 0x7f70e43eaed0>,\n",
              " 'trials': <gensim.models.keyedvectors.Vocab at 0x7f70e43eaf10>,\n",
              " 'subscribing': <gensim.models.keyedvectors.Vocab at 0x7f70e43eaf50>,\n",
              " 'probably': <gensim.models.keyedvectors.Vocab at 0x7f70e43eaf90>,\n",
              " 'generation': <gensim.models.keyedvectors.Vocab at 0x7f70e43eafd0>,\n",
              " 'complaints': <gensim.models.keyedvectors.Vocab at 0x7f70e436d050>,\n",
              " 'hate': <gensim.models.keyedvectors.Vocab at 0x7f70e436d090>,\n",
              " 'speeds': <gensim.models.keyedvectors.Vocab at 0x7f70e436d0d0>,\n",
              " 'site': <gensim.models.keyedvectors.Vocab at 0x7f70e436d110>,\n",
              " 'cover': <gensim.models.keyedvectors.Vocab at 0x7f70e436d150>,\n",
              " 'current': <gensim.models.keyedvectors.Vocab at 0x7f70e436d190>,\n",
              " 'elect': <gensim.models.keyedvectors.Vocab at 0x7f70e436d1d0>,\n",
              " 'queue': <gensim.models.keyedvectors.Vocab at 0x7f70e436d210>,\n",
              " 'idea': <gensim.models.keyedvectors.Vocab at 0x7f70e436d250>,\n",
              " 'kinks': <gensim.models.keyedvectors.Vocab at 0x7f70e436d290>,\n",
              " 'realize': <gensim.models.keyedvectors.Vocab at 0x7f70e436d2d0>,\n",
              " 'comparing': <gensim.models.keyedvectors.Vocab at 0x7f70e436d310>,\n",
              " 'sony': <gensim.models.keyedvectors.Vocab at 0x7f70e436d350>,\n",
              " 'shutter': <gensim.models.keyedvectors.Vocab at 0x7f70e436d390>,\n",
              " 'itouch': <gensim.models.keyedvectors.Vocab at 0x7f70e436d3d0>,\n",
              " 'comparison': <gensim.models.keyedvectors.Vocab at 0x7f70e436d410>,\n",
              " 'unusable': <gensim.models.keyedvectors.Vocab at 0x7f70e436d450>,\n",
              " 'break': <gensim.models.keyedvectors.Vocab at 0x7f70e436d490>,\n",
              " 'nightstand': <gensim.models.keyedvectors.Vocab at 0x7f70e436d4d0>,\n",
              " 'paprika': <gensim.models.keyedvectors.Vocab at 0x7f70e436d510>,\n",
              " 'sorry': <gensim.models.keyedvectors.Vocab at 0x7f70e436d550>,\n",
              " 'pounded': <gensim.models.keyedvectors.Vocab at 0x7f70e436d590>,\n",
              " 'pooch': <gensim.models.keyedvectors.Vocab at 0x7f70e436d5d0>,\n",
              " 'immediately': <gensim.models.keyedvectors.Vocab at 0x7f70e436d610>,\n",
              " 'wanted': <gensim.models.keyedvectors.Vocab at 0x7f70e436d650>,\n",
              " 'okay': <gensim.models.keyedvectors.Vocab at 0x7f70e436d690>,\n",
              " 'create': <gensim.models.keyedvectors.Vocab at 0x7f70e436d6d0>,\n",
              " 'consuming': <gensim.models.keyedvectors.Vocab at 0x7f70e436d710>,\n",
              " 'required': <gensim.models.keyedvectors.Vocab at 0x7f70e436d750>,\n",
              " 'wouldn': <gensim.models.keyedvectors.Vocab at 0x7f70e436d790>,\n",
              " 'skipped': <gensim.models.keyedvectors.Vocab at 0x7f70e436d7d0>,\n",
              " 'terrible': <gensim.models.keyedvectors.Vocab at 0x7f70e436d810>,\n",
              " ...}"
            ]
          },
          "metadata": {},
          "execution_count": 13
        }
      ]
    },
    {
      "cell_type": "code",
      "metadata": {
        "colab": {
          "base_uri": "https://localhost:8080/"
        },
        "id": "SUrNuIuyQE1H",
        "outputId": "83039a90-6da1-4dc8-dcff-f682d4105180"
      },
      "source": [
        "model.wv.vocab['don']"
      ],
      "execution_count": 14,
      "outputs": [
        {
          "output_type": "execute_result",
          "data": {
            "text/plain": [
              "<gensim.models.keyedvectors.Vocab at 0x7f7115c62ad0>"
            ]
          },
          "metadata": {},
          "execution_count": 14
        }
      ]
    },
    {
      "cell_type": "code",
      "metadata": {
        "colab": {
          "base_uri": "https://localhost:8080/"
        },
        "id": "Wr101ztTQqNR",
        "outputId": "219faf1b-faa4-49d8-c672-755af35f9bbc"
      },
      "source": [
        "model.wv.most_similar('greatest')"
      ],
      "execution_count": 15,
      "outputs": [
        {
          "output_type": "execute_result",
          "data": {
            "text/plain": [
              "[('coolest', 0.8829938173294067),\n",
              " ('best', 0.87896728515625),\n",
              " ('funnest', 0.8763682842254639),\n",
              " ('funniest', 0.8643795251846313),\n",
              " ('funest', 0.8429943323135376),\n",
              " ('bestest', 0.8281242847442627),\n",
              " ('awsomest', 0.815155029296875),\n",
              " ('dumbest', 0.8142512440681458),\n",
              " ('awesomest', 0.8107225298881531),\n",
              " ('neatest', 0.8052774667739868)]"
            ]
          },
          "metadata": {},
          "execution_count": 15
        }
      ]
    },
    {
      "cell_type": "code",
      "metadata": {
        "colab": {
          "base_uri": "https://localhost:8080/"
        },
        "id": "j_Ey4U-oRmkt",
        "outputId": "519978bf-5cef-4007-d622-d38cdd9528f5"
      },
      "source": [
        "model.wv.similarity(w1='greatest',w2='best')"
      ],
      "execution_count": 16,
      "outputs": [
        {
          "output_type": "execute_result",
          "data": {
            "text/plain": [
              "0.87896734"
            ]
          },
          "metadata": {},
          "execution_count": 16
        }
      ]
    },
    {
      "cell_type": "code",
      "metadata": {
        "colab": {
          "base_uri": "https://localhost:8080/"
        },
        "id": "fv0zSJD_MYxX",
        "outputId": "dd6e70db-d7b9-4035-af48-19bbd4ddbcae"
      },
      "source": [
        "model.most_similar(positive=['game','good'], negative=['premium'])"
      ],
      "execution_count": 17,
      "outputs": [
        {
          "output_type": "stream",
          "name": "stderr",
          "text": [
            "/usr/local/lib/python3.7/dist-packages/ipykernel_launcher.py:1: DeprecationWarning: Call to deprecated `most_similar` (Method will be removed in 4.0.0, use self.wv.most_similar() instead).\n",
            "  \"\"\"Entry point for launching an IPython kernel.\n"
          ]
        },
        {
          "output_type": "execute_result",
          "data": {
            "text/plain": [
              "[('fun', 0.6551100015640259),\n",
              " ('entertaining', 0.5673226714134216),\n",
              " ('funand', 0.5304539203643799),\n",
              " ('exciting', 0.5229584574699402),\n",
              " ('changeling', 0.5220553278923035),\n",
              " ('challengeing', 0.5007575154304504),\n",
              " ('addicting', 0.47907909750938416),\n",
              " ('challanging', 0.4719233810901642),\n",
              " ('challeging', 0.46873748302459717),\n",
              " ('entertaing', 0.4664376974105835)]"
            ]
          },
          "metadata": {},
          "execution_count": 17
        }
      ]
    },
    {
      "cell_type": "code",
      "metadata": {
        "colab": {
          "base_uri": "https://localhost:8080/"
        },
        "id": "Qtoc8-nrNiRF",
        "outputId": "a633d09b-14d3-4a66-8283-50e111defcfb"
      },
      "source": [
        "model.most_similar(positive=['ios'], negative=['playstore'])"
      ],
      "execution_count": 23,
      "outputs": [
        {
          "output_type": "stream",
          "name": "stderr",
          "text": [
            "/usr/local/lib/python3.7/dist-packages/ipykernel_launcher.py:1: DeprecationWarning: Call to deprecated `most_similar` (Method will be removed in 4.0.0, use self.wv.most_similar() instead).\n",
            "  \"\"\"Entry point for launching an IPython kernel.\n"
          ]
        },
        {
          "output_type": "execute_result",
          "data": {
            "text/plain": [
              "[('innovative', 0.42200177907943726),\n",
              " ('abduction', 0.4189174771308899),\n",
              " ('xbox', 0.4135958254337311),\n",
              " ('fluid', 0.40966665744781494),\n",
              " ('touchscreens', 0.40730950236320496),\n",
              " ('pokemon', 0.4021313190460205),\n",
              " ('shrapnel', 0.39904725551605225),\n",
              " ('mishandles', 0.39043188095092773),\n",
              " ('platforming', 0.383098304271698),\n",
              " ('gunner', 0.3775581121444702)]"
            ]
          },
          "metadata": {},
          "execution_count": 23
        }
      ]
    },
    {
      "cell_type": "code",
      "metadata": {
        "colab": {
          "base_uri": "https://localhost:8080/"
        },
        "id": "-GHxP4ciRJ1_",
        "outputId": "8ad65f03-cefd-4a05-d5b6-4e5d89b53c73"
      },
      "source": [
        "model.most_similar(positive=['fps'], negative=['rpg'])"
      ],
      "execution_count": 24,
      "outputs": [
        {
          "output_type": "stream",
          "name": "stderr",
          "text": [
            "/usr/local/lib/python3.7/dist-packages/ipykernel_launcher.py:1: DeprecationWarning: Call to deprecated `most_similar` (Method will be removed in 4.0.0, use self.wv.most_similar() instead).\n",
            "  \"\"\"Entry point for launching an IPython kernel.\n"
          ]
        },
        {
          "output_type": "execute_result",
          "data": {
            "text/plain": [
              "[('callback', 0.4184052348136902),\n",
              " ('androids', 0.4177430272102356),\n",
              " ('citrix', 0.4134511649608612),\n",
              " ('dsl', 0.4131203889846802),\n",
              " ('voip', 0.41293635964393616),\n",
              " ('mobilelite', 0.40507200360298157),\n",
              " ('herky', 0.40241020917892456),\n",
              " ('mbps', 0.4003105163574219),\n",
              " ('diaplay', 0.39659368991851807),\n",
              " ('supported', 0.396095871925354)]"
            ]
          },
          "metadata": {},
          "execution_count": 24
        }
      ]
    }
  ]
}
