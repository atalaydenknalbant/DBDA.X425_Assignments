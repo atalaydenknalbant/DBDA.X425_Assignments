{
 "cells": [
  {
   "cell_type": "markdown",
   "source": [
    "# NumPy Exercises"
   ],
   "metadata": {
    "collapsed": false
   }
  },
  {
   "cell_type": "markdown",
   "source": [
    "## Importing Library"
   ],
   "metadata": {
    "collapsed": false
   }
  },
  {
   "cell_type": "code",
   "execution_count": 117,
   "metadata": {
    "collapsed": true
   },
   "outputs": [],
   "source": [
    "import numpy as np"
   ]
  },
  {
   "cell_type": "markdown",
   "source": [
    "## Create a vector of size 10.\n",
    "   ### Fill all the elements with zeros, print the result\n",
    "   ### Assign a value of “1” to the fifth value in this vector. Print the result."
   ],
   "metadata": {
    "collapsed": false
   }
  },
  {
   "cell_type": "code",
   "execution_count": 118,
   "outputs": [
    {
     "name": "stdout",
     "output_type": "stream",
     "text": [
      "[ 1  2  3  4  5  6  7  8  9 10]\n",
      "[0 0 0 0 0 0 0 0 0 0]\n",
      "[0 0 0 0 1 0 0 0 0 0]\n"
     ]
    }
   ],
   "source": [
    "a = np.array([1,2,3,4,5,6,7,8,9,10])\n",
    "print(a)\n",
    "a.fill(0)\n",
    "print(a)\n",
    "a[4] = 1\n",
    "print(a)"
   ],
   "metadata": {
    "collapsed": false,
    "pycharm": {
     "name": "#%%\n"
    }
   }
  },
  {
   "cell_type": "markdown",
   "source": [
    "## Create a vector with values ranging from 1 to 20 inclusive\n",
    "   ### Print the result\n",
    "   ### Reverse the vector then print the result"
   ],
   "metadata": {
    "collapsed": false
   }
  },
  {
   "cell_type": "code",
   "execution_count": 119,
   "outputs": [
    {
     "name": "stdout",
     "output_type": "stream",
     "text": [
      "[ 1  2  3  4  5  6  7  8  9 10 11 12 13 14 15 16 17 18 19 20]\n",
      "[20 19 18 17 16 15 14 13 12 11 10  9  8  7  6  5  4  3  2  1]\n"
     ]
    }
   ],
   "source": [
    "b = np.arange(1,21)\n",
    "print(b)\n",
    "b = b[::-1]\n",
    "print(b)"
   ],
   "metadata": {
    "collapsed": false,
    "pycharm": {
     "name": "#%%\n"
    }
   }
  },
  {
   "cell_type": "markdown",
   "source": [
    "## Create a random vector of size 50.\n",
    "   ### Print the vector\n",
    "   ### Find the mean of the vector and print the result"
   ],
   "metadata": {
    "collapsed": false
   }
  },
  {
   "cell_type": "code",
   "execution_count": 120,
   "outputs": [
    {
     "name": "stdout",
     "output_type": "stream",
     "text": [
      "[63 68 13 27 76  5 19 72 40 55 97 51 83 20 21 97 54 74 84 10 18 67 76 98\n",
      "  1 30 74  8 21 24 51 25 83 77 97  4 11 10 17 24 91 63 42 83 83 65 35 18\n",
      " 22 40]\n",
      "47.74\n"
     ]
    }
   ],
   "source": [
    "c = np.random.randint(0,101,50)\n",
    "print(c)\n",
    "c_mean = c.mean()\n",
    "print(c_mean)"
   ],
   "metadata": {
    "collapsed": false,
    "pycharm": {
     "name": "#%%\n"
    }
   }
  },
  {
   "cell_type": "markdown",
   "source": [
    "## Create a 3x4 matrix with a value of “1” for each element. Print the result.\n",
    "   ### Create a 4x2 matrix with a value of “1” for each element, print the result.\n",
    "   ### Multiply both 3x4 and 4x3 matrix and print the final result"
   ],
   "metadata": {
    "collapsed": false
   }
  },
  {
   "cell_type": "code",
   "execution_count": 121,
   "outputs": [
    {
     "name": "stdout",
     "output_type": "stream",
     "text": [
      "[[1 1 1 1]\n",
      " [1 1 1 1]\n",
      " [1 1 1 1]]\n",
      "[[1 1]\n",
      " [1 1]\n",
      " [1 1]\n",
      " [1 1]]\n",
      "[[4 4]\n",
      " [4 4]\n",
      " [4 4]]\n"
     ]
    }
   ],
   "source": [
    "d = np.full((3, 4), 1)\n",
    "print(d)\n",
    "d_2 = np.full((4, 2), 1)\n",
    "print(d_2)\n",
    "d_result = d.dot(d_2)\n",
    "print(d_result)"
   ],
   "metadata": {
    "collapsed": false,
    "pycharm": {
     "name": "#%%\n"
    }
   }
  },
  {
   "cell_type": "markdown",
   "source": [
    "## Create a 5x5 array with random numbers, print the array\n",
    "   ### Find the min value from this array, print the result\n",
    "   ### Find the max value from this array, print the result"
   ],
   "metadata": {
    "collapsed": false
   }
  },
  {
   "cell_type": "code",
   "execution_count": 122,
   "outputs": [
    {
     "name": "stdout",
     "output_type": "stream",
     "text": [
      "[[25 78 42  1 29]\n",
      " [27 74 89  0 34]\n",
      " [84 33 44 91  0]\n",
      " [79  9 48 58 94]\n",
      " [42 32 13 52  1]]\n",
      "0\n",
      "94\n"
     ]
    }
   ],
   "source": [
    "e =  np.random.randint(0,100,size=(5,5))\n",
    "print(e)\n",
    "print(e.min())\n",
    "print(e.max())"
   ],
   "metadata": {
    "collapsed": false,
    "pycharm": {
     "name": "#%%\n"
    }
   }
  },
  {
   "cell_type": "markdown",
   "source": [
    "# Pandas Exercises"
   ],
   "metadata": {
    "collapsed": false
   }
  },
  {
   "cell_type": "markdown",
   "source": [
    "# Importing Library"
   ],
   "metadata": {
    "collapsed": false
   }
  },
  {
   "cell_type": "code",
   "execution_count": 123,
   "outputs": [],
   "source": [
    "import pandas as pd"
   ],
   "metadata": {
    "collapsed": false,
    "pycharm": {
     "name": "#%%\n"
    }
   }
  },
  {
   "cell_type": "markdown",
   "source": [
    "##\n",
    "   ### Create a Panda Series from 10 to 50 in multiples of 10. Print the series.\n",
    "   ### Create a dictionary of weekdays and print this as panda series.\n",
    "   ### Example {“Monday”:1, “Tuesday:2 etc..}\n",
    "   ### Create a data frame in Pandas with Months of the calendar year.\n",
    "\n",
    "   ### Your output should appear like this\n",
    "\n",
    "   ### Name         Month\n",
    "\n",
    "   ### January         1\n",
    "\n",
    "   ### February        2\n",
    "\n",
    "   ### March           3\n",
    "\n",
    "   ### ….              ..\n",
    "\n",
    "   ### ….              .."
   ],
   "metadata": {
    "collapsed": false
   }
  },
  {
   "cell_type": "code",
   "execution_count": 124,
   "outputs": [
    {
     "name": "stdout",
     "output_type": "stream",
     "text": [
      "0    10\n",
      "1    20\n",
      "2    30\n",
      "3    40\n",
      "4    50\n",
      "dtype: int32\n",
      "Monday       1\n",
      "Tuesday      2\n",
      "Wednesday    3\n",
      "Thursday     4\n",
      "Friday       5\n",
      "Saturday     6\n",
      "Sunday       7\n",
      "dtype: int64\n",
      "     Name  Month\n",
      "  January      1\n",
      " February      2\n",
      "    March      3\n",
      "    April      4\n",
      "      May      5\n",
      "     June      6\n",
      "     July      7\n",
      "   August      8\n",
      "September      9\n",
      "  October     10\n",
      " November     11\n",
      " December     12\n"
     ]
    }
   ],
   "source": [
    "a = pd.Series(np.arange(10,51,step=10))\n",
    "print(a)\n",
    "a_weekdays = pd.Series({\"Monday\":1 , \"Tuesday\":2,\"Wednesday\":3,\"Thursday\":4,\"Friday\":5,\"Saturday\":6,\"Sunday\":7})\n",
    "print(a_weekdays)\n",
    "a_months = pd.DataFrame({'Name':['January', 'February','March',\n",
    "                                 'April', 'May','June', 'July',\n",
    "                                 'August', 'September','October',\n",
    "                                 'November','December'],\n",
    "                         'Month':[1,2,3,4,5,6,7,8,9,10,11,12]})\n",
    "print(a_months.to_string(index=False))"
   ],
   "metadata": {
    "collapsed": false,
    "pycharm": {
     "name": "#%%\n"
    }
   }
  },
  {
   "cell_type": "markdown",
   "source": [
    "## Use this input data and create a dataframe. Print the dataframe\n",
    "\n",
    "   ### input = [{'Name':'Monday', 'day':1},\n",
    "\n",
    "   ###        {'Name':'Tuesday', 'day':2},\n",
    "\n",
    "   ###        {'Name':'Wednesday', 'day':3},\n",
    "\n",
    "   ###        {'Name':'Thursday', 'day':4},\n",
    "\n",
    "   ###        {'Name':'Friday', 'day':5},\n",
    "\n",
    "   ###        {'Name':'Saturday', 'day':6},\n",
    "\n",
    "   ###        {'Name':'Sunday', 'day':7},\n",
    "\n",
    "   ###        ]\n",
    "\n",
    "   ### Next, iterate over this data frame and print the results."
   ],
   "metadata": {
    "collapsed": false
   }
  },
  {
   "cell_type": "code",
   "execution_count": 125,
   "outputs": [
    {
     "name": "stdout",
     "output_type": "stream",
     "text": [
      "     Name  day\n",
      "   Monday    1\n",
      "  Tuesday    2\n",
      "Wednesday    3\n",
      " Thursday    4\n",
      "   Friday    5\n",
      " Saturday    6\n",
      "   Sunday    7\n",
      "Name 0       Monday\n",
      "1      Tuesday\n",
      "2    Wednesday\n",
      "3     Thursday\n",
      "4       Friday\n",
      "5     Saturday\n",
      "6       Sunday\n",
      "Name: Name, dtype: object\n",
      "day 0    1\n",
      "1    2\n",
      "2    3\n",
      "3    4\n",
      "4    5\n",
      "5    6\n",
      "6    7\n",
      "Name: day, dtype: int64\n"
     ]
    }
   ],
   "source": [
    "b = pd.DataFrame( [{'Name':'Monday', 'day':1},\n",
    "\n",
    "                   {'Name':'Tuesday', 'day':2},\n",
    "\n",
    "                   {'Name':'Wednesday', 'day':3},\n",
    "\n",
    "                   {'Name':'Thursday', 'day':4},\n",
    "\n",
    "                   {'Name':'Friday', 'day':5},\n",
    "\n",
    "                   {'Name':'Saturday', 'day':6},\n",
    "\n",
    "                   {'Name':'Sunday', 'day':7},\n",
    "\n",
    "                   ])\n",
    "print(b.to_string(index=False))\n",
    "for col, data in b.items():\n",
    "    print('{}{}'.format(col,''), '{}{}'.format(data, ''))"
   ],
   "metadata": {
    "collapsed": false,
    "pycharm": {
     "name": "#%%\n"
    }
   }
  },
  {
   "cell_type": "markdown",
   "source": [
    "## Create a numpy array with 5 elements of your choice. Index these elements in Panda series and print the series."
   ],
   "metadata": {
    "collapsed": false
   }
  },
  {
   "cell_type": "code",
   "execution_count": 126,
   "outputs": [
    {
     "name": "stdout",
     "output_type": "stream",
     "text": [
      "Tuesday     2\n",
      "Friday      5\n",
      "Saturday    6\n",
      "Monday      1\n",
      "Sunday      7\n",
      "dtype: int64\n"
     ]
    }
   ],
   "source": [
    "c = np.array(['Tuesday','Friday','Saturday','Monday','Sunday'])\n",
    "c_series = a_weekdays.loc[c]\n",
    "print(c_series)"
   ],
   "metadata": {
    "collapsed": false,
    "pycharm": {
     "name": "#%%\n"
    }
   }
  }
 ],
 "metadata": {
  "kernelspec": {
   "display_name": "Python 3",
   "language": "python",
   "name": "python3"
  },
  "language_info": {
   "codemirror_mode": {
    "name": "ipython",
    "version": 2
   },
   "file_extension": ".py",
   "mimetype": "text/x-python",
   "name": "python",
   "nbconvert_exporter": "python",
   "pygments_lexer": "ipython2",
   "version": "2.7.6"
  }
 },
 "nbformat": 4,
 "nbformat_minor": 0
}
